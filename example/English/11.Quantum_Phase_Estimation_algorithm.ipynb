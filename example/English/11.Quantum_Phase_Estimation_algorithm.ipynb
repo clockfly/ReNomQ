{
 "cells": [
  {
   "cell_type": "markdown",
   "metadata": {},
   "source": [
    "# 11: Phase estimation problem"
   ]
  },
  {
   "cell_type": "code",
   "execution_count": 1,
   "metadata": {},
   "outputs": [],
   "source": [
    "from renom_q import *\n",
    "import math"
   ]
  },
  {
   "cell_type": "markdown",
   "metadata": {},
   "source": [
    "The phase estimation problem is to estimate the phase $\\theta$ of the unitary transformation when a unitary transformation is given.  \n",
    "When a certain unitary transformation U is given, if eigenvector $\\left| u \\right\\rangle$ of the unitary transformation and its eigenvalue is $\\lambda = e^{i\\theta} = e^{2\\pi i \\phi}$, the following relational expression is obtained.\n",
    "$$U\\left| u \\right\\rangle = \\lambda\\left| u \\right\\rangle= e^{i\\theta}\\left| u \\right\\rangle = e^{2\\pi i \\phi}\\left| u \\right\\rangle = e^{2\\pi i 0.a_1 a_2 a_3 \\dots}\\left| u \\right\\rangle$$"
   ]
  },
  {
   "cell_type": "markdown",
   "metadata": {},
   "source": [
    "$\\theta$ is the phase $\\theta= 2\\pi \\phi$ of the unitary transformation $U$, $\\phi$ is not an integer, it becomes the following decimal point from 1 as follows.\n",
    "$$0 \\leq 2 \\pi \\phi < 2 \\pi \\rightarrow 0 \\leq \\phi < 1$$ "
   ]
  },
  {
   "cell_type": "markdown",
   "metadata": {},
   "source": [
    "In order to estimate the decimal point from the binary value by measuring the quantum bit, we use the control $U$ gate.\n",
    "$$\\left| 0 \\right\\rangle \\left| u \\right\\rangle \\xrightarrow{H \\otimes I} (\\left| 0 \\right\\rangle + \\left| 1 \\right\\rangle) \\left| u \\right\\rangle \\xrightarrow{cU} \\left| 0 \\right\\rangle \\left| u \\right\\rangle + \\left| 1 \\right\\rangle U \\left| u \\right\\rangle =  (\\left| 0 \\right\\rangle + e^{2 \\pi i \\phi} \\left| 1 \\right\\rangle) \\left| u \\right\\rangle $$"
   ]
  },
  {
   "cell_type": "markdown",
   "metadata": {},
   "source": [
    "At this time, the eigenvalue $\\lambda$ is generated at the target gate. This is called a reward of eigenvalues (Kickback)."
   ]
  },
  {
   "cell_type": "markdown",
   "metadata": {},
   "source": [
    "## 11-1: Phase estimation problem with 3 qubits"
   ]
  },
  {
   "cell_type": "markdown",
   "metadata": {},
   "source": [
    "We solve the phase estimation problem with 3 qubits using 3 control $U$ gates. It is calculated by using Hadamard transformation and unitary $U^3=U\\cdot U \\cdot U$, and if the upper 3 bits are subjected to inverse quantum Fourier transformation, the phase value $\\left| x_1 x_2 x_3 \\right\\rangle$ of unitary transformation $U\\left| u \\right\\rangle = \\lambda\\left| u \\right\\rangle = e^{2\\pi i 0.x_1 x_2 x_3}\\left| u \\right\\rangle$ is found."
   ]
  },
  {
   "cell_type": "markdown",
   "metadata": {},
   "source": [
    "$$\\left| 000 \\right\\rangle \\left| u \\right\\rangle \\xrightarrow{H \\otimes H \\otimes H \\otimes I} (\\left| 0 \\right\\rangle + \\left| 1 \\right\\rangle)(\\left| 0 \\right\\rangle + \\left| 1 \\right\\rangle)(\\left| 0 \\right\\rangle + \\left| 1 \\right\\rangle)\\left| u \\right\\rangle \\xrightarrow{cU} \\xrightarrow{cU^2} \\xrightarrow{cU^3} (\\left| 0 \\right\\rangle + (e^{2\\pi i \\phi})^3 \\left| 1 \\right\\rangle)(\\left| 0 \\right\\rangle + (e^{2\\pi i \\phi})^2 \\left| 1 \\right\\rangle)(\\left| 0 \\right\\rangle + e^{2\\pi i \\phi} \\left| 1 \\right\\rangle)\\left| u \\right\\rangle = (\\left| 0 \\right\\rangle + (e^{2\\pi i 0.x_1 x_2 x_3})^3 \\left| 1 \\right\\rangle)(\\left| 0 \\right\\rangle + (e^{2\\pi i 0.x_1 x_2 x_3})^2 \\left| 1 \\right\\rangle)(\\left| 0 \\right\\rangle + e^{2\\pi i 0.x_1 x_2 x_3} \\left| 1 \\right\\rangle)\\left| u \\right\\rangle = (\\left| 0 \\right\\rangle + e^{2\\pi i 0.x_3} \\left| 1 \\right\\rangle)(\\left| 0 \\right\\rangle + e^{2\\pi i 0.x_2 x_3} \\left| 1 \\right\\rangle)(\\left| 0 \\right\\rangle + e^{2\\pi i 0.x_1 x_2 x_3} \\left| 1 \\right\\rangle)\\left| u \\right\\rangle  \\xrightarrow{QFT^{-1}_8} \\left| x_3 \\right\\rangle \\left| x_2 \\right\\rangle \\left| x_1 \\right\\rangle \\left| u \\right\\rangle $$"
   ]
  },
  {
   "cell_type": "markdown",
   "metadata": {},
   "source": [
    "For example, assuming that the phase to be estimated is $\\theta=14\\pi/8$,"
   ]
  },
  {
   "cell_type": "code",
   "execution_count": 2,
   "metadata": {
    "scrolled": false
   },
   "outputs": [
    {
     "name": "stdout",
     "output_type": "stream",
     "text": [
      "{'000': 56, '010': 9, '100': 12, '110': 56, '111': 891}\n"
     ]
    },
    {
     "data": {
      "image/png": "[encoded data removed]",
      "text/plain": [
       "<Figure size 432x288 with 1 Axes>"
      ]
     },
     "metadata": {
      "needs_background": "light"
     },
     "output_type": "display_data"
    }
   ],
   "source": [
    "def ctlUn(qci, c, t, p, n):\n",
    "    for i in range(n):\n",
    "        qci.u1(-p, t)\n",
    "        qci.cx(c, t)\n",
    "        qci.u1(p, t)\n",
    "        qci.cx(c, t)\n",
    "        \n",
    "def iqft(qci, q, n):\n",
    "    for i in range(n):\n",
    "        for j in range(i):\n",
    "            qci.cu1(-math.pi/float(2**(i-j)),q[j], q[i])\n",
    "        qci.h(q[i])\n",
    "        \n",
    "def swap(qci, s1, s2):\n",
    "    qci.cx(s1, s2)\n",
    "    qci.cx(s2, s1)\n",
    "    qci.cx(s1, s2)\n",
    "    \n",
    "n = 3\n",
    "phase = 14.0*math.pi/8.0\n",
    "qr = QuantumRegister(n, 'qr')\n",
    "ur = QuantumRegister(1, 'ur')\n",
    "c = ClassicalRegister(n)\n",
    "qc = QuantumCircuit(qr, ur, c)\n",
    "\n",
    "\n",
    "for i in range(n):\n",
    "    qc.h(qr[i])\n",
    "\n",
    "for i in range(n):\n",
    "    ctlUn(qc, qr[n-1-i], ur[0], phase, i+1)\n",
    "\n",
    "iqft(qc, qr, n)\n",
    "swap(qc, qr[0], qr[2])\n",
    "\n",
    "qc.measure(qr, c)\n",
    "    \n",
    "r = execute(qc)\n",
    "print(r)\n",
    "plot_histogram(r)"
   ]
  },
  {
   "cell_type": "markdown",
   "metadata": {},
   "source": [
    "$\\left| 111 \\right\\rangle$ has been measured, the phase of the unitary transformation $U\\left| u \\right\\rangle = \\lambda\\left| u \\right\\rangle = e^{2\\pi i 0.111}\\left| u \\right\\rangle$ is $\\theta = 2\\pi (1/2 + 1/4 + 1/8)=14\\pi /8$, which coincides with the phase which is set at the beginning and is to be estimated."
   ]
  },
  {
   "cell_type": "code",
   "execution_count": null,
   "metadata": {},
   "outputs": [],
   "source": []
  }
 ],
 "metadata": {
  "kernelspec": {
   "display_name": "Python 3",
   "language": "python",
   "name": "python3"
  },
  "language_info": {
   "codemirror_mode": {
    "name": "ipython",
    "version": 3
   },
   "file_extension": ".py",
   "mimetype": "text/x-python",
   "name": "python",
   "nbconvert_exporter": "python",
   "pygments_lexer": "ipython3",
   "version": "3.6.8"
  }
 },
 "nbformat": 4,
 "nbformat_minor": 1
}
