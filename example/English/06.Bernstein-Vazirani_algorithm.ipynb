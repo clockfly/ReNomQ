{
 "cells": [
  {
   "cell_type": "markdown",
   "metadata": {},
   "source": [
    "# 6: Bernstein-Vazirani algorithm"
   ]
  },
  {
   "cell_type": "code",
   "execution_count": 1,
   "metadata": {},
   "outputs": [],
   "source": [
    "from renom_q import *"
   ]
  },
  {
   "cell_type": "markdown",
   "metadata": {},
   "source": [
    "The Bernstein-Vazirani problem is a problem of finding a constant $a$ for a binary function $f(x)$, which is an inner product modulo 2, with an $n$-bit binary variable $x$ and an $n$-bit binary constant $a$."
   ]
  },
  {
   "cell_type": "markdown",
   "metadata": {},
   "source": [
    "$$f(x) = x \\bullet a \\equiv (x_0 \\bullet a_0) \\oplus (x_1 \\bullet a_1) \\oplus \\dots \\oplus (x_{n-1} \\bullet a_{n-1})$$"
   ]
  },
  {
   "cell_type": "markdown",
   "metadata": {},
   "source": [
    "In case of $n= 3$,\n",
    "$$f(x_0 x_1 x_2) = (x_0 \\bullet a_0) \\oplus (x_1 \\bullet a_1) \\oplus (x_2 \\bullet a_2)$$"
   ]
  },
  {
   "cell_type": "markdown",
   "metadata": {},
   "source": [
    "$$\\left| x_1 \\right\\rangle \\left| x_2 \\right\\rangle \\left| x_3 \\right\\rangle \\left| y \\right\\rangle \\xrightarrow{U_f} \\left| x_1 \\right\\rangle \\left| x_2 \\right\\rangle \\left| x_3 \\right\\rangle \\left| y \\oplus f(x_1 x_2 x_3) \\right\\rangle$$"
   ]
  },
  {
   "cell_type": "markdown",
   "metadata": {},
   "source": [
    "## Example1: $a=101$"
   ]
  },
  {
   "cell_type": "code",
   "execution_count": 2,
   "metadata": {},
   "outputs": [
    {
     "name": "stdout",
     "output_type": "stream",
     "text": [
      "{'101': 1024}\n"
     ]
    },
    {
     "data": {
      "image/png": "[encoded data removed]",
      "text/plain": [
       "<Figure size 432x288 with 1 Axes>"
      ]
     },
     "metadata": {
      "needs_background": "light"
     },
     "output_type": "display_data"
    }
   ],
   "source": [
    "def bv_oracle(qci, x0, x1, x2, f_x):\n",
    "    qci.cx(x0, f_x)\n",
    "    qci.cx(x2, f_x)\n",
    "    \n",
    "bn = 4\n",
    "cn = 3\n",
    "q = QuantumRegister(bn)\n",
    "c = ClassicalRegister(cn)\n",
    "qc = QuantumCircuit(q, c)\n",
    "\n",
    "qc.x(q[3])\n",
    "for i in range(bn):\n",
    "    qc.h(q[i])\n",
    "\n",
    "bv_oracle(qc, q[0], q[1], q[2], q[3])\n",
    "\n",
    "for i in range(bn):\n",
    "    qc.h(q[i])\n",
    " \n",
    "for i in range(cn):\n",
    "    qc.measure(q[i], c[i])\n",
    "    \n",
    "r = execute(qc)\n",
    "print(r)\n",
    "plot_histogram(r)"
   ]
  },
  {
   "cell_type": "markdown",
   "metadata": {},
   "source": [
    "## Example2: $a=111$"
   ]
  },
  {
   "cell_type": "code",
   "execution_count": 3,
   "metadata": {},
   "outputs": [
    {
     "name": "stdout",
     "output_type": "stream",
     "text": [
      "{'111': 1024}\n"
     ]
    },
    {
     "data": {
      "image/png": "[encoded data removed]",
      "text/plain": [
       "<Figure size 432x288 with 1 Axes>"
      ]
     },
     "metadata": {
      "needs_background": "light"
     },
     "output_type": "display_data"
    }
   ],
   "source": [
    "def bv_oracle(qci, x0, x1, x2, f_x):\n",
    "    qci.cx(x0, f_x)\n",
    "    qci.cx(x1, f_x)\n",
    "    qci.cx(x2, f_x)\n",
    "    \n",
    "bn = 4\n",
    "cn = 3\n",
    "q = QuantumRegister(bn)\n",
    "c = ClassicalRegister(cn)\n",
    "qc = QuantumCircuit(q, c)\n",
    "\n",
    "qc.x(q[3])\n",
    "for i in range(bn):\n",
    "    qc.h(q[i])\n",
    "\n",
    "bv_oracle(qc, q[0], q[1], q[2], q[3])\n",
    "\n",
    "for i in range(bn):\n",
    "    qc.h(q[i])\n",
    "\n",
    "for i in range(cn):\n",
    "    qc.measure(q[i], c[i])\n",
    "    \n",
    "r = execute(qc)\n",
    "print(r)\n",
    "plot_histogram(r)"
   ]
  },
  {
   "cell_type": "code",
   "execution_count": null,
   "metadata": {},
   "outputs": [],
   "source": []
  }
 ],
 "metadata": {
  "kernelspec": {
   "display_name": "Python 3",
   "language": "python",
   "name": "python3"
  },
  "language_info": {
   "codemirror_mode": {
    "name": "ipython",
    "version": 3
   },
   "file_extension": ".py",
   "mimetype": "text/x-python",
   "name": "python",
   "nbconvert_exporter": "python",
   "pygments_lexer": "ipython3",
   "version": "3.6.8"
  }
 },
 "nbformat": 4,
 "nbformat_minor": 2
}
