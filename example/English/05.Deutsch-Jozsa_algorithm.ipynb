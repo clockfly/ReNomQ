{
 "cells": [
  {
   "cell_type": "markdown",
   "metadata": {},
   "source": [
    "# 5: Deutsch-Jozsa algorithm"
   ]
  },
  {
   "cell_type": "code",
   "execution_count": 1,
   "metadata": {},
   "outputs": [],
   "source": [
    "from renom_q import *"
   ]
  },
  {
   "cell_type": "markdown",
   "metadata": {},
   "source": [
    "For the Deutsch problem, only the variable $x$ of 1 qubit was used, but the Deutsch-Jozsa problem is a problem when the variable $x$ of 2 or more qubits is used.\n",
    "\n",
    "However, the function is promised to be either constant or balanced. (Promised Algorithm)"
   ]
  },
  {
   "cell_type": "markdown",
   "metadata": {},
   "source": [
    "$$\\left| x_1 \\right\\rangle \\left| x_2 \\right\\rangle \\left| y \\right\\rangle \\xrightarrow{U_f} \\left| x_1 \\right\\rangle \\left| x_2 \\right\\rangle \\left| y \\oplus f(x_1 x_2) \\right\\rangle$$"
   ]
  },
  {
   "cell_type": "markdown",
   "metadata": {},
   "source": [
    "In case of 3-qubit variable (8 types),\n",
    "\n",
    "- The constant function\n",
    "$$f(00)=f(01)=f(10)=f(11)=0$$\n",
    "$$f(00)=f(01)=f(10)=f(11)=1$$\n",
    "        \n",
    "- The balanced function\n",
    "$$f(00)=f(01)=0, \\ \\ \\ \\ f(10)=f(11)=1$$\n",
    "$$f(00)=f(11)=0, \\ \\ \\ \\ f(01)=f(10)=1$$\n",
    "$$f(00)=f(10)=0, \\ \\ \\ \\ f(01)=f(11)=1$$\n",
    "$$f(00)=f(01)=1, \\ \\ \\ \\ f(10)=f(11)=0$$\n",
    "$$f(00)=f(11)=1, \\ \\ \\ \\ f(01)=f(10)=0$$\n",
    "$$f(00)=f(10)=1, \\ \\ \\ \\ f(01)=f(11)=0$$"
   ]
  },
  {
   "cell_type": "markdown",
   "metadata": {},
   "source": [
    "When the upper 2 bits are measured, if it is $\\left| 00 \\right\\rangle$, it is a constant function, and if it is $\\left| 01 \\right\\rangle$, $\\left| 10 \\right\\rangle$ or $\\left| 11 \\right\\rangle$ it is a balanced function."
   ]
  },
  {
   "cell_type": "markdown",
   "metadata": {},
   "source": [
    "## Example1: Constant function"
   ]
  },
  {
   "cell_type": "code",
   "execution_count": 2,
   "metadata": {},
   "outputs": [
    {
     "name": "stdout",
     "output_type": "stream",
     "text": [
      "{'00': 1024}\n"
     ]
    },
    {
     "data": {
      "image/png": "[encoded data removed]",
      "text/plain": [
       "<Figure size 432x288 with 1 Axes>"
      ]
     },
     "metadata": {
      "needs_background": "light"
     },
     "output_type": "display_data"
    }
   ],
   "source": [
    "def c_oracle(qci, x0, x1, f_x):\n",
    "    qci.x(f_x)\n",
    "    \n",
    "bn = 3\n",
    "cn = 2\n",
    "q = QuantumRegister(bn)\n",
    "c = ClassicalRegister(cn)\n",
    "qc = QuantumCircuit(q, c)\n",
    "\n",
    "qc.x(q[2])\n",
    "for i in range(bn):\n",
    "    qc.h(q[i])\n",
    "\n",
    "c_oracle(qc, q[0], q[1], q[2])\n",
    "\n",
    "for i in range(bn):\n",
    "    qc.h(q[i])\n",
    "\n",
    "for i in range(cn):\n",
    "    qc.measure(q[i], c[i])\n",
    "    \n",
    "r = execute(qc)\n",
    "print(r)\n",
    "plot_histogram(r)"
   ]
  },
  {
   "cell_type": "markdown",
   "metadata": {},
   "source": [
    "## Example2: Balanced function"
   ]
  },
  {
   "cell_type": "code",
   "execution_count": 3,
   "metadata": {},
   "outputs": [
    {
     "name": "stdout",
     "output_type": "stream",
     "text": [
      "{'10': 1024}\n"
     ]
    },
    {
     "data": {
      "image/png": "[encoded data removed]",
      "text/plain": [
       "<Figure size 432x288 with 1 Axes>"
      ]
     },
     "metadata": {
      "needs_background": "light"
     },
     "output_type": "display_data"
    }
   ],
   "source": [
    "def b_oracle(qci, x0, x1, f_x):\n",
    "    qci.cx(x0, f_x)\n",
    "    \n",
    "bn = 3\n",
    "cn = 2\n",
    "q = QuantumRegister(bn)\n",
    "c = ClassicalRegister(cn)\n",
    "qc = QuantumCircuit(q, c)\n",
    "\n",
    "qc.x(q[2])\n",
    "for i in range(bn):\n",
    "    qc.h(q[i])\n",
    "\n",
    "b_oracle(qc, q[0], q[1], q[2])\n",
    "\n",
    "for i in range(bn):\n",
    "    qc.h(q[i])\n",
    "\n",
    "for i in range(cn):\n",
    "    qc.measure(q[i], c[i])\n",
    "    \n",
    "r = execute(qc)\n",
    "print(r)\n",
    "plot_histogram(r)"
   ]
  },
  {
   "cell_type": "code",
   "execution_count": null,
   "metadata": {},
   "outputs": [],
   "source": []
  }
 ],
 "metadata": {
  "kernelspec": {
   "display_name": "Python 3",
   "language": "python",
   "name": "python3"
  },
  "language_info": {
   "codemirror_mode": {
    "name": "ipython",
    "version": 3
   },
   "file_extension": ".py",
   "mimetype": "text/x-python",
   "name": "python",
   "nbconvert_exporter": "python",
   "pygments_lexer": "ipython3",
   "version": "3.6.8"
  }
 },
 "nbformat": 4,
 "nbformat_minor": 2
}
