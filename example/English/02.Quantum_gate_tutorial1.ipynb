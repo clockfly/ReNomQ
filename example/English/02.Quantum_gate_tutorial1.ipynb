{
 "cells": [
  {
   "cell_type": "markdown",
   "metadata": {},
   "source": [
    "# 2: Quantum gate tutorial1"
   ]
  },
  {
   "cell_type": "code",
   "execution_count": 1,
   "metadata": {},
   "outputs": [],
   "source": [
    "from renom_q import *\n",
    "import math"
   ]
  },
  {
   "cell_type": "markdown",
   "metadata": {},
   "source": [
    "## 2-1: Identity operator $I$"
   ]
  },
  {
   "cell_type": "markdown",
   "metadata": {},
   "source": [
    "$$ I = \\left[\n",
    "\\begin{array}{rr}\n",
    "1 & 0 \\\\\n",
    "0 & 1 \n",
    "\\end{array}\n",
    "\\right]\n",
    "$$"
   ]
  },
  {
   "cell_type": "markdown",
   "metadata": {},
   "source": [
    "$$ I\\left| 0 \\right\\rangle = \\left[\n",
    "\\begin{array}{rr}\n",
    "1 & 0 \\\\\n",
    "0 & 1\n",
    "\\end{array}\n",
    "\\right]\n",
    "\\left[\n",
    "\\begin{array}{r}\n",
    "1 \\\\\n",
    "0\n",
    "\\end{array}\n",
    "\\right] = \\left[\n",
    "\\begin{array}{r}\n",
    "1 \\\\\n",
    "0\n",
    "\\end{array}\n",
    "\\right] = \\left| 0 \\right\\rangle $$"
   ]
  },
  {
   "cell_type": "code",
   "execution_count": 2,
   "metadata": {},
   "outputs": [
    {
     "name": "stdout",
     "output_type": "stream",
     "text": [
      "{'0': 1024}\n"
     ]
    },
    {
     "data": {
      "image/png": "[encoded data removed]",
      "text/plain": [
       "<Figure size 432x288 with 1 Axes>"
      ]
     },
     "metadata": {
      "needs_background": "light"
     },
     "output_type": "display_data"
    }
   ],
   "source": [
    "q = QuantumRegister(1)\n",
    "c = ClassicalRegister(1)\n",
    "qc = QuantumCircuit(q, c)\n",
    "\n",
    "qc.id(q[0])\n",
    "qc.measure()\n",
    "\n",
    "r = execute(qc)\n",
    "print(r)\n",
    "plot_histogram(r)"
   ]
  },
  {
   "cell_type": "markdown",
   "metadata": {},
   "source": [
    "## 2-2: Bit inversion operator $X$"
   ]
  },
  {
   "cell_type": "markdown",
   "metadata": {},
   "source": [
    "$$ X = \\left[\n",
    "\\begin{array}{rr}\n",
    "0 & 1 \\\\\n",
    "1 & 0 \n",
    "\\end{array}\n",
    "\\right]\n",
    "$$"
   ]
  },
  {
   "cell_type": "markdown",
   "metadata": {},
   "source": [
    "$$ X\\left| 0 \\right\\rangle = \\left[\n",
    "\\begin{array}{rr}\n",
    "0 & 1 \\\\\n",
    "1 & 0\n",
    "\\end{array}\n",
    "\\right]\n",
    "\\left[\n",
    "\\begin{array}{r}\n",
    "1 \\\\\n",
    "0\n",
    "\\end{array}\n",
    "\\right] = \\left[\n",
    "\\begin{array}{r}\n",
    "0 \\\\\n",
    "1\n",
    "\\end{array}\n",
    "\\right] = \\left| 1 \\right\\rangle $$"
   ]
  },
  {
   "cell_type": "markdown",
   "metadata": {},
   "source": [
    "$$ X\\left| 1 \\right\\rangle = \\left[\n",
    "\\begin{array}{rr}\n",
    "0 & 1 \\\\\n",
    "1 & 0\n",
    "\\end{array}\n",
    "\\right]\n",
    "\\left[\n",
    "\\begin{array}{r}\n",
    "0 \\\\\n",
    "1\n",
    "\\end{array}\n",
    "\\right] = \\left[\n",
    "\\begin{array}{r}\n",
    "1 \\\\\n",
    "0\n",
    "\\end{array}\n",
    "\\right] = \\left| 0 \\right\\rangle $$"
   ]
  },
  {
   "cell_type": "code",
   "execution_count": 3,
   "metadata": {},
   "outputs": [
    {
     "name": "stdout",
     "output_type": "stream",
     "text": [
      "{'1': 1024}\n"
     ]
    },
    {
     "data": {
      "image/png": "[encoded data removed]",
      "text/plain": [
       "<Figure size 432x288 with 1 Axes>"
      ]
     },
     "metadata": {
      "needs_background": "light"
     },
     "output_type": "display_data"
    }
   ],
   "source": [
    "q = QuantumRegister(1)\n",
    "c = ClassicalRegister(1)\n",
    "qc = QuantumCircuit(q, c)\n",
    "\n",
    "qc.x(q[0])         \n",
    "qc.measure()\n",
    "\n",
    "r = execute(qc)\n",
    "print(r)\n",
    "plot_histogram(r)"
   ]
  },
  {
   "cell_type": "markdown",
   "metadata": {},
   "source": [
    "## 2-3: Phase inversion operator $Z$"
   ]
  },
  {
   "cell_type": "markdown",
   "metadata": {},
   "source": [
    "$$ Z = \\left[\n",
    "\\begin{array}{rr}\n",
    "1 & 0 \\\\\n",
    "0 & -1\n",
    "\\end{array}\n",
    "\\right] $$"
   ]
  },
  {
   "cell_type": "markdown",
   "metadata": {},
   "source": [
    "$$Z \\left| 0 \\right\\rangle = \\left[\n",
    "\\begin{array}{rr}\n",
    "1 & 0 \\\\\n",
    "0 & -1\n",
    "\\end{array}\n",
    "\\right]\n",
    "\\left[\n",
    "\\begin{array}{r}\n",
    "1 \\\\\n",
    "0\n",
    "\\end{array}\n",
    "\\right]\n",
    "=\\left[\n",
    "\\begin{array}{r}\n",
    "1 \\\\\n",
    "0\n",
    "\\end{array}\n",
    "\\right]\n",
    "=\\left| 0 \\right\\rangle $$"
   ]
  },
  {
   "cell_type": "markdown",
   "metadata": {},
   "source": [
    "$$Z \\left| 1 \\right\\rangle = \\left[\n",
    "\\begin{array}{rr}\n",
    "1 & 0 \\\\\n",
    "0 & -1\n",
    "\\end{array}\n",
    "\\right]\n",
    "\\left[\n",
    "\\begin{array}{r}\n",
    "0 \\\\\n",
    "1\n",
    "\\end{array}\n",
    "\\right]\n",
    "=\\left[\n",
    "\\begin{array}{r}\n",
    "0 \\\\\n",
    "-1\n",
    "\\end{array}\n",
    "\\right]\n",
    "=-\\left| 1 \\right\\rangle $$"
   ]
  },
  {
   "cell_type": "code",
   "execution_count": 4,
   "metadata": {},
   "outputs": [
    {
     "name": "stdout",
     "output_type": "stream",
     "text": [
      "{'1': 1024}\n"
     ]
    },
    {
     "data": {
      "image/png": "[encoded data removed]",
      "text/plain": [
       "<Figure size 432x288 with 1 Axes>"
      ]
     },
     "metadata": {
      "needs_background": "light"
     },
     "output_type": "display_data"
    }
   ],
   "source": [
    "q = QuantumRegister(1)\n",
    "c = ClassicalRegister(1)\n",
    "qc = QuantumCircuit(q, c)\n",
    "\n",
    "qc.x(q[0])     \n",
    "qc.z(q[0])      \n",
    "qc.measure()\n",
    "\n",
    "r = execute(qc)\n",
    "print(r)\n",
    "plot_histogram(r)"
   ]
  },
  {
   "cell_type": "markdown",
   "metadata": {},
   "source": [
    "## 2-4: Phase and bit inversion operator $Y$"
   ]
  },
  {
   "cell_type": "markdown",
   "metadata": {},
   "source": [
    "$$ Y = \\left[\n",
    "\\begin{array}{rr}\n",
    "0 & -i \\\\\n",
    "i & 0\n",
    "\\end{array}\n",
    "\\right] $$"
   ]
  },
  {
   "cell_type": "markdown",
   "metadata": {},
   "source": [
    "$$ Y \\left| 0 \\right\\rangle =\\left[\n",
    "\\begin{array}{rr}\n",
    "0 & -i \\\\\n",
    "i & 0\n",
    "\\end{array}\n",
    "\\right]\\left[\n",
    "\\begin{array}{r}\n",
    "1 \\\\\n",
    "0\n",
    "\\end{array}\n",
    "\\right]=\\left[\n",
    "\\begin{array}{r}\n",
    "0 \\\\\n",
    "i\n",
    "\\end{array}\n",
    "\\right]\n",
    "=i\\left| 1 \\right\\rangle $$"
   ]
  },
  {
   "cell_type": "markdown",
   "metadata": {},
   "source": [
    "$$ Y \\left| 1 \\right\\rangle =\\left[\n",
    "\\begin{array}{rr}\n",
    "0 & -i \\\\\n",
    "i & 0\n",
    "\\end{array}\n",
    "\\right]\\left[\n",
    "\\begin{array}{r}\n",
    "0 \\\\\n",
    "1\n",
    "\\end{array}\n",
    "\\right]=\\left[\n",
    "\\begin{array}{r}\n",
    "-i \\\\\n",
    "0\n",
    "\\end{array}\n",
    "\\right]\n",
    "=-i\\left| 0 \\right\\rangle $$"
   ]
  },
  {
   "cell_type": "code",
   "execution_count": 5,
   "metadata": {},
   "outputs": [
    {
     "name": "stdout",
     "output_type": "stream",
     "text": [
      "{'1': 1024}\n"
     ]
    },
    {
     "data": {
      "image/png": "[encoded data removed]",
      "text/plain": [
       "<Figure size 432x288 with 1 Axes>"
      ]
     },
     "metadata": {
      "needs_background": "light"
     },
     "output_type": "display_data"
    }
   ],
   "source": [
    "q = QuantumRegister(1)\n",
    "c = ClassicalRegister(1)\n",
    "qc = QuantumCircuit(q, c)\n",
    "\n",
    "qc.y(q[0])     \n",
    "qc.measure()\n",
    "\n",
    "r = execute(qc)\n",
    "print(r)\n",
    "plot_histogram(r)"
   ]
  },
  {
   "cell_type": "markdown",
   "metadata": {
    "collapsed": true
   },
   "source": [
    "## 2-5: $4/\\pi$ phase shift operator $S$"
   ]
  },
  {
   "cell_type": "markdown",
   "metadata": {},
   "source": [
    "$$ S = \\left[\n",
    "\\begin{array}{rr}\n",
    "1 & 0 \\\\\n",
    "0 & i\n",
    "\\end{array}\n",
    "\\right] $$"
   ]
  },
  {
   "cell_type": "markdown",
   "metadata": {},
   "source": [
    "$$ S\\left| 0 \\right\\rangle = \\left[\n",
    "\\begin{array}{rr}\n",
    "1 & 0 \\\\\n",
    "0 & i\n",
    "\\end{array}\n",
    "\\right]\n",
    "\\left[\n",
    "\\begin{array}{r}\n",
    "1 \\\\\n",
    "0\n",
    "\\end{array}\n",
    "\\right]\n",
    "=\\left[\n",
    "\\begin{array}{r}\n",
    "1 \\\\\n",
    "0\n",
    "\\end{array}\n",
    "\\right]\n",
    "=\\left| 0 \\right\\rangle $$"
   ]
  },
  {
   "cell_type": "markdown",
   "metadata": {},
   "source": [
    "$$ S\\left| 1 \\right\\rangle = \\left[\n",
    "\\begin{array}{rr}\n",
    "1 & 0 \\\\\n",
    "0 & i\n",
    "\\end{array}\n",
    "\\right]\n",
    "\\left[\n",
    "\\begin{array}{r}\n",
    "0 \\\\\n",
    "1\n",
    "\\end{array}\n",
    "\\right]\n",
    "=\\left[\n",
    "\\begin{array}{r}\n",
    "0 \\\\\n",
    "i\n",
    "\\end{array}\n",
    "\\right]\n",
    "=i\\left| 1 \\right\\rangle $$"
   ]
  },
  {
   "cell_type": "code",
   "execution_count": 6,
   "metadata": {},
   "outputs": [
    {
     "name": "stdout",
     "output_type": "stream",
     "text": [
      "{'1': 1024}\n"
     ]
    },
    {
     "data": {
      "image/png": "[encoded data removed]",
      "text/plain": [
       "<Figure size 432x288 with 1 Axes>"
      ]
     },
     "metadata": {
      "needs_background": "light"
     },
     "output_type": "display_data"
    }
   ],
   "source": [
    "q = QuantumRegister(1)\n",
    "c = ClassicalRegister(1)\n",
    "qc = QuantumCircuit(q, c)\n",
    "\n",
    "qc.x(q[0])\n",
    "qc.s(q[0])     \n",
    "qc.measure()\n",
    "\n",
    "r = execute(qc)\n",
    "print(r)\n",
    "plot_histogram(r)"
   ]
  },
  {
   "cell_type": "markdown",
   "metadata": {
    "collapsed": true
   },
   "source": [
    "## 2-6: $-4/\\pi$ phase shift operator $S^{\\dagger}$"
   ]
  },
  {
   "cell_type": "markdown",
   "metadata": {},
   "source": [
    "$$ S^{\\dagger} = \\left[\n",
    "\\begin{array}{rr}\n",
    "1 & 0 \\\\\n",
    "0 & -i\n",
    "\\end{array}\n",
    "\\right] $$"
   ]
  },
  {
   "cell_type": "markdown",
   "metadata": {},
   "source": [
    "$$ S^{\\dagger} \\left| 0 \\right\\rangle = \\left[\n",
    "\\begin{array}{rr}\n",
    "1 & 0 \\\\\n",
    "0 & -i\n",
    "\\end{array}\n",
    "\\right]\n",
    "\\left[\n",
    "\\begin{array}{r}\n",
    "1 \\\\\n",
    "0\n",
    "\\end{array}\n",
    "\\right]\n",
    "=\\left[\n",
    "\\begin{array}{r}\n",
    "1 \\\\\n",
    "0\n",
    "\\end{array}\n",
    "\\right]\n",
    "=\\left| 0 \\right\\rangle $$"
   ]
  },
  {
   "cell_type": "markdown",
   "metadata": {},
   "source": [
    "$$ S^{\\dagger} \\left| 1 \\right\\rangle = \\left[\n",
    "\\begin{array}{rr}\n",
    "1 & 0 \\\\\n",
    "0 & -i\n",
    "\\end{array}\n",
    "\\right]\n",
    "\\left[\n",
    "\\begin{array}{r}\n",
    "0 \\\\\n",
    "1\n",
    "\\end{array}\n",
    "\\right]\n",
    "=\\left[\n",
    "\\begin{array}{r}\n",
    "0 \\\\\n",
    "-i\n",
    "\\end{array}\n",
    "\\right]\n",
    "=-i\\left| 1 \\right\\rangle $$"
   ]
  },
  {
   "cell_type": "code",
   "execution_count": 7,
   "metadata": {},
   "outputs": [
    {
     "name": "stdout",
     "output_type": "stream",
     "text": [
      "{'1': 1024}\n"
     ]
    },
    {
     "data": {
      "image/png": "[encoded data removed]",
      "text/plain": [
       "<Figure size 432x288 with 1 Axes>"
      ]
     },
     "metadata": {
      "needs_background": "light"
     },
     "output_type": "display_data"
    }
   ],
   "source": [
    "q = QuantumRegister(1)\n",
    "c = ClassicalRegister(1)\n",
    "qc = QuantumCircuit(q, c)\n",
    "\n",
    "qc.x(q[0])\n",
    "qc.sdg(q[0])     \n",
    "qc.measure()\n",
    "\n",
    "r = execute(qc)\n",
    "print(r)\n",
    "plot_histogram(r)"
   ]
  },
  {
   "cell_type": "markdown",
   "metadata": {
    "collapsed": true
   },
   "source": [
    "## 2-7: $8/\\pi$ phase shift operator $T$"
   ]
  },
  {
   "cell_type": "markdown",
   "metadata": {},
   "source": [
    "$$T=\\left[\n",
    "\\begin{array}{rr}\n",
    "1 & 0 \\\\\n",
    "0 & (1+i)/\\sqrt{2}\n",
    "\\end{array}\n",
    "\\right]$$"
   ]
  },
  {
   "cell_type": "markdown",
   "metadata": {},
   "source": [
    "$$T \\left| 0 \\right\\rangle =\\left[\n",
    "\\begin{array}{rr}\n",
    "1 & 0 \\\\\n",
    "0 & (1+i)/\\sqrt{2}\n",
    "\\end{array}\n",
    "\\right]\\left[\n",
    "\\begin{array}{r}\n",
    "1 \\\\\n",
    "0\n",
    "\\end{array}\n",
    "\\right]=\\left[\n",
    "\\begin{array}{r}\n",
    "1 \\\\\n",
    "0\n",
    "\\end{array}\n",
    "\\right]\n",
    "= \\left| 0 \\right\\rangle $$"
   ]
  },
  {
   "cell_type": "markdown",
   "metadata": {},
   "source": [
    "$$T \\left| 1 \\right\\rangle =\\left[\n",
    "\\begin{array}{rr}\n",
    "1 & 0 \\\\\n",
    "0 & (1+i)/\\sqrt{2}\n",
    "\\end{array}\n",
    "\\right]\\left[\n",
    "\\begin{array}{r}\n",
    "0 \\\\\n",
    "1\n",
    "\\end{array}\n",
    "\\right]=\\left[\n",
    "\\begin{array}{r}\n",
    "0 \\\\\n",
    "(1+i)/\\sqrt{2}\n",
    "\\end{array}\n",
    "\\right]\n",
    "= \\frac{(1+i)\\left| 1 \\right\\rangle}{\\sqrt{2}} $$"
   ]
  },
  {
   "cell_type": "code",
   "execution_count": 8,
   "metadata": {},
   "outputs": [
    {
     "name": "stdout",
     "output_type": "stream",
     "text": [
      "{'1': 1024}\n"
     ]
    },
    {
     "data": {
      "image/png": "[encoded data removed]",
      "text/plain": [
       "<Figure size 432x288 with 1 Axes>"
      ]
     },
     "metadata": {
      "needs_background": "light"
     },
     "output_type": "display_data"
    }
   ],
   "source": [
    "q = QuantumRegister(1)\n",
    "c = ClassicalRegister(1)\n",
    "qc = QuantumCircuit(q, c)\n",
    "\n",
    "qc.x(q[0])\n",
    "qc.t(q[0])     \n",
    "qc.measure()\n",
    "\n",
    "r = execute(qc)\n",
    "print(r)\n",
    "plot_histogram(r)"
   ]
  },
  {
   "cell_type": "markdown",
   "metadata": {
    "collapsed": true
   },
   "source": [
    "## 2-8: $-8/\\pi$ phase shift operator $T^{\\dagger}$"
   ]
  },
  {
   "cell_type": "markdown",
   "metadata": {},
   "source": [
    "$$T^{\\dagger} =\\left[\n",
    "\\begin{array}{rr}\n",
    "1 & 0 \\\\\n",
    "0 & (1-i)/\\sqrt{2}\n",
    "\\end{array}\n",
    "\\right]$$"
   ]
  },
  {
   "cell_type": "markdown",
   "metadata": {},
   "source": [
    "$$T^{\\dagger} \\left| 0 \\right\\rangle =\\left[\n",
    "\\begin{array}{rr}\n",
    "1 & 0 \\\\\n",
    "0 & (1-i)/\\sqrt{2}\n",
    "\\end{array}\n",
    "\\right]\\left[\n",
    "\\begin{array}{r}\n",
    "1 \\\\\n",
    "0\n",
    "\\end{array}\n",
    "\\right]=\\left[\n",
    "\\begin{array}{r}\n",
    "1 \\\\\n",
    "0\n",
    "\\end{array}\n",
    "\\right]\n",
    "= \\left| 0 \\right\\rangle $$"
   ]
  },
  {
   "cell_type": "markdown",
   "metadata": {},
   "source": [
    "$$T^{\\dagger} \\left| 1 \\right\\rangle =\\left[\n",
    "\\begin{array}{rr}\n",
    "1 & 0 \\\\\n",
    "0 & (1-i)/\\sqrt{2}\n",
    "\\end{array}\n",
    "\\right]\\left[\n",
    "\\begin{array}{r}\n",
    "0 \\\\\n",
    "1\n",
    "\\end{array}\n",
    "\\right]=\\left[\n",
    "\\begin{array}{r}\n",
    "0 \\\\\n",
    "(1-i)/\\sqrt{2}\n",
    "\\end{array}\n",
    "\\right]\n",
    "= \\frac{(1-i)\\left| 1 \\right\\rangle}{\\sqrt{2}} $$"
   ]
  },
  {
   "cell_type": "code",
   "execution_count": 9,
   "metadata": {},
   "outputs": [
    {
     "name": "stdout",
     "output_type": "stream",
     "text": [
      "{'1': 1024}\n"
     ]
    },
    {
     "data": {
      "image/png": "[encoded data removed]",
      "text/plain": [
       "<Figure size 432x288 with 1 Axes>"
      ]
     },
     "metadata": {
      "needs_background": "light"
     },
     "output_type": "display_data"
    }
   ],
   "source": [
    "q = QuantumRegister(1)\n",
    "c = ClassicalRegister(1)\n",
    "qc = QuantumCircuit(q, c)\n",
    "\n",
    "qc.x(q[0])\n",
    "qc.tdg(q[0])     \n",
    "qc.measure()\n",
    "\n",
    "r = execute(qc)\n",
    "print(r)\n",
    "plot_histogram(r)"
   ]
  },
  {
   "cell_type": "markdown",
   "metadata": {
    "collapsed": true
   },
   "source": [
    "## 2-9: Hadamard gate $H$"
   ]
  },
  {
   "cell_type": "markdown",
   "metadata": {},
   "source": [
    "$$H= \\frac{1}{\\sqrt{2}} \\left[\n",
    "\\begin{array}{rr}\n",
    "1 & 1\\\\\n",
    "1 & -1\n",
    "\\end{array}\n",
    "\\right] $$"
   ]
  },
  {
   "cell_type": "markdown",
   "metadata": {},
   "source": [
    "$$H\\left| 0 \\right\\rangle\n",
    "= \\frac{1}{\\sqrt{2}} \\left[\n",
    "\\begin{array}{rr}\n",
    "1 & 1\\\\\n",
    "1 & -1\n",
    "\\end{array}\n",
    "\\right]\\left[\n",
    "\\begin{array}{r}\n",
    "1\\\\\n",
    "0\n",
    "\\end{array}\n",
    "\\right]\n",
    "=\\frac{1}{\\sqrt{2}} \\left[\n",
    "\\begin{array}{r}\n",
    "1\\\\\n",
    "1\n",
    "\\end{array}\n",
    "\\right]\n",
    "=\\frac{\\left| 0 \\right\\rangle + \\left| 1 \\right\\rangle}{\\sqrt{2}} $$"
   ]
  },
  {
   "cell_type": "markdown",
   "metadata": {},
   "source": [
    "$$H\\left| 1 \\right\\rangle\n",
    "= \\frac{1}{\\sqrt{2}} \\left[\n",
    "\\begin{array}{rr}\n",
    "1 & 1\\\\\n",
    "1 & -1\n",
    "\\end{array}\n",
    "\\right]\\left[\n",
    "\\begin{array}{r}\n",
    "0\\\\\n",
    "1\n",
    "\\end{array}\n",
    "\\right]\n",
    "=\\frac{1}{\\sqrt{2}} \\left[\n",
    "\\begin{array}{r}\n",
    "1\\\\\n",
    "-1\n",
    "\\end{array}\n",
    "\\right]\n",
    "=\\frac{\\left| 0 \\right\\rangle - \\left| 1 \\right\\rangle}{\\sqrt{2}} $$"
   ]
  },
  {
   "cell_type": "code",
   "execution_count": 10,
   "metadata": {},
   "outputs": [
    {
     "name": "stdout",
     "output_type": "stream",
     "text": [
      "{'0': 519, '1': 505}\n"
     ]
    },
    {
     "data": {
      "image/png": "[encoded data removed]",
      "text/plain": [
       "<Figure size 432x288 with 1 Axes>"
      ]
     },
     "metadata": {
      "needs_background": "light"
     },
     "output_type": "display_data"
    }
   ],
   "source": [
    "q = QuantumRegister(1)\n",
    "c = ClassicalRegister(1)\n",
    "qc = QuantumCircuit(q, c)\n",
    "\n",
    "qc.h(q[0])\n",
    "qc.measure()\n",
    "\n",
    "r = execute(qc)\n",
    "print(r)\n",
    "plot_histogram(r)"
   ]
  },
  {
   "cell_type": "markdown",
   "metadata": {},
   "source": [
    "### Superposition of 2 qubit by Hadamard transformation"
   ]
  },
  {
   "cell_type": "markdown",
   "metadata": {},
   "source": [
    "$$ \\left| 0 \\right\\rangle \\otimes \\left| 0 \\right\\rangle\n",
    "\\xrightarrow{H \\otimes H}\n",
    "H\\left| 0 \\right\\rangle \\otimes H\\left| 0 \\right\\rangle\n",
    "=\\frac{\\left| 0 \\right\\rangle + \\left| 1 \\right\\rangle}{\\sqrt{2}}\n",
    "\\otimes \\frac{\\left| 0 \\right\\rangle + \\left| 1 \\right\\rangle}{\\sqrt{2}}\n",
    "=\\frac{1}{2} \\left[ \\left| 00 \\right\\rangle + \\left| 01 \\right\\rangle + \\left| 10 \\right\\rangle + \\left| 11 \\right\\rangle \\right] $$"
   ]
  },
  {
   "cell_type": "code",
   "execution_count": 11,
   "metadata": {},
   "outputs": [
    {
     "name": "stdout",
     "output_type": "stream",
     "text": [
      "{'00': 264, '01': 255, '10': 242, '11': 263}\n"
     ]
    },
    {
     "data": {
      "image/png": "[encoded data removed]",
      "text/plain": [
       "<Figure size 432x288 with 1 Axes>"
      ]
     },
     "metadata": {
      "needs_background": "light"
     },
     "output_type": "display_data"
    }
   ],
   "source": [
    "q = QuantumRegister(2)\n",
    "c = ClassicalRegister(2)\n",
    "qc = QuantumCircuit(q, c)\n",
    "\n",
    "for i in range(2):\n",
    "    qc.h(q[i])\n",
    "qc.measure()\n",
    "\n",
    "r = execute(qc)\n",
    "print(r)\n",
    "plot_histogram(r)"
   ]
  },
  {
   "cell_type": "markdown",
   "metadata": {},
   "source": [
    "## 2-10: $x$-axis rotation gate $R_x$"
   ]
  },
  {
   "cell_type": "markdown",
   "metadata": {},
   "source": [
    "$$R_x(\\theta) \n",
    "=\\left[\n",
    "\\begin{array}{rr}\n",
    "\\cos{\\frac{\\theta}{2}} & -i \\sin{\\frac{\\theta}{2}} \\\\\n",
    "-i \\sin{\\frac{\\theta}{2}} & \\cos{\\frac{\\theta}{2}}\n",
    "\\end{array}\\right]$$"
   ]
  },
  {
   "cell_type": "markdown",
   "metadata": {},
   "source": [
    "ex: $\\theta=\\pi /2$\n",
    "$$ R_x(\\pi /2) \\left| 0 \\right\\rangle = \\left[\n",
    "\\begin{array}{rr}\n",
    "\\cos{\\frac{\\pi}{4}} & -i \\sin{\\frac{\\pi}{4}} \\\\\n",
    "-i \\sin{\\frac{\\pi}{4}} & \\cos{\\frac{\\pi}{4}}\n",
    "\\end{array}\n",
    "\\right]\n",
    "\\left[\n",
    "\\begin{array}{r}\n",
    "1 \\\\\n",
    "0\n",
    "\\end{array}\n",
    "\\right]\n",
    "=\\left[\n",
    "\\begin{array}{r}\n",
    "\\frac{1}{\\sqrt{2}} \\\\\n",
    "-i \\frac{1}{\\sqrt{2}}\n",
    "\\end{array}\n",
    "\\right]\n",
    "=\\frac{\\left| 0 \\right\\rangle -i \\left| 1 \\right\\rangle}{\\sqrt{2}} $$"
   ]
  },
  {
   "cell_type": "markdown",
   "metadata": {},
   "source": [
    "$$ R_x(\\pi /2) \\left| 1 \\right\\rangle = \\left[\n",
    "\\begin{array}{rr}\n",
    "\\cos{\\frac{\\pi}{4}} & -i \\sin{\\frac{\\pi}{4}} \\\\\n",
    "-i \\sin{\\frac{\\pi}{4}} & \\cos{\\frac{\\pi}{4}}\n",
    "\\end{array}\n",
    "\\right]\n",
    "\\left[\n",
    "\\begin{array}{r}\n",
    "0 \\\\\n",
    "1\n",
    "\\end{array}\n",
    "\\right]\n",
    "=\\left[\n",
    "\\begin{array}{r}\n",
    "-i \\frac{1}{\\sqrt{2}} \\\\\n",
    "\\frac{1}{\\sqrt{2}}\n",
    "\\end{array}\n",
    "\\right]\n",
    "=\\frac{-i \\left| 0 \\right\\rangle + \\left| 1 \\right\\rangle}{\\sqrt{2}} $$"
   ]
  },
  {
   "cell_type": "code",
   "execution_count": 12,
   "metadata": {},
   "outputs": [
    {
     "name": "stdout",
     "output_type": "stream",
     "text": [
      "{'0': 494, '1': 530}\n"
     ]
    },
    {
     "data": {
      "image/png": "[encoded data removed]",
      "text/plain": [
       "<Figure size 432x288 with 1 Axes>"
      ]
     },
     "metadata": {
      "needs_background": "light"
     },
     "output_type": "display_data"
    }
   ],
   "source": [
    "q = QuantumRegister(1)\n",
    "c = ClassicalRegister(1)\n",
    "qc = QuantumCircuit(q, c)\n",
    "\n",
    "qc.x(q[0])\n",
    "qc.rx(math.pi/2, q[0])\n",
    "qc.measure()\n",
    "\n",
    "r = execute(qc)\n",
    "print(r)\n",
    "plot_histogram(r)"
   ]
  },
  {
   "cell_type": "markdown",
   "metadata": {},
   "source": [
    "## 2-11: $y$-axis rotation gate $R_y$"
   ]
  },
  {
   "cell_type": "markdown",
   "metadata": {},
   "source": [
    "$$R_y(\\theta) \n",
    "=\\left[\n",
    "\\begin{array}{rr}\n",
    "\\cos{\\frac{\\theta}{2}} & -\\sin{\\frac{\\theta}{2}} \\\\\n",
    "\\sin{\\frac{\\theta}{2}} & \\cos{\\frac{\\theta}{2}}\n",
    "\\end{array}\\right]$$"
   ]
  },
  {
   "cell_type": "markdown",
   "metadata": {},
   "source": [
    "ex: $\\theta=\\pi /2$\n",
    "$$ R_y(\\pi /2) \\left| 0 \\right\\rangle = \\left[\n",
    "\\begin{array}{rr}\n",
    "\\cos{\\frac{\\pi}{4}} & -\\sin{\\frac{\\pi}{4}} \\\\\n",
    "\\sin{\\frac{\\pi}{4}} & \\cos{\\frac{\\pi}{4}}\n",
    "\\end{array}\n",
    "\\right]\n",
    "\\left[\n",
    "\\begin{array}{r}\n",
    "1 \\\\\n",
    "0\n",
    "\\end{array}\n",
    "\\right]\n",
    "=\\left[\n",
    "\\begin{array}{r}\n",
    "\\frac{1}{\\sqrt{2}} \\\\\n",
    "\\frac{1}{\\sqrt{2}}\n",
    "\\end{array}\n",
    "\\right]\n",
    "=\\frac{\\left| 0 \\right\\rangle + \\left| 1 \\right\\rangle}{\\sqrt{2}} $$"
   ]
  },
  {
   "cell_type": "markdown",
   "metadata": {},
   "source": [
    "$$ R_y(\\pi /2) \\left| 1 \\right\\rangle = \\left[\n",
    "\\begin{array}{rr}\n",
    "\\cos{\\frac{\\pi}{4}} & -\\sin{\\frac{\\pi}{4}} \\\\\n",
    "\\sin{\\frac{\\pi}{4}} & \\cos{\\frac{\\pi}{4}}\n",
    "\\end{array}\n",
    "\\right]\n",
    "\\left[\n",
    "\\begin{array}{r}\n",
    "0 \\\\\n",
    "1\n",
    "\\end{array}\n",
    "\\right]\n",
    "=\\left[\n",
    "\\begin{array}{r}\n",
    "- \\frac{1}{\\sqrt{2}} \\\\\n",
    "\\frac{1}{\\sqrt{2}}\n",
    "\\end{array}\n",
    "\\right]\n",
    "=\\frac{- \\left| 0 \\right\\rangle + \\left| 1 \\right\\rangle}{\\sqrt{2}} $$"
   ]
  },
  {
   "cell_type": "code",
   "execution_count": 13,
   "metadata": {},
   "outputs": [
    {
     "name": "stdout",
     "output_type": "stream",
     "text": [
      "{'0': 500, '1': 524}\n"
     ]
    },
    {
     "data": {
      "image/png": "[encoded data removed]",
      "text/plain": [
       "<Figure size 432x288 with 1 Axes>"
      ]
     },
     "metadata": {
      "needs_background": "light"
     },
     "output_type": "display_data"
    }
   ],
   "source": [
    "q = QuantumRegister(1)\n",
    "c = ClassicalRegister(1)\n",
    "qc = QuantumCircuit(q, c)\n",
    "\n",
    "qc.x(q[0])\n",
    "qc.ry(math.pi/2, q[0])\n",
    "qc.measure()\n",
    "\n",
    "r = execute(qc)\n",
    "print(r)\n",
    "plot_histogram(r)"
   ]
  },
  {
   "cell_type": "markdown",
   "metadata": {},
   "source": [
    "## 2-12: $z$-axis rotation gate $R_z$"
   ]
  },
  {
   "cell_type": "markdown",
   "metadata": {},
   "source": [
    "$$R_z(\\theta) \n",
    "=\\left[\n",
    "\\begin{array}{rr}\n",
    "1 & 0 \\\\\n",
    "0 & e^{i\\theta}\n",
    "\\end{array}\\right]$$"
   ]
  },
  {
   "cell_type": "markdown",
   "metadata": {},
   "source": [
    "ex: $\\theta=\\pi$\n",
    "$$ R_z(\\pi) \\left| 0 \\right\\rangle = \\left[\n",
    "\\begin{array}{rr}\n",
    "1 & 0 \\\\\n",
    "0 & e^{i\\pi}\n",
    "\\end{array}\n",
    "\\right]\n",
    "\\left[\n",
    "\\begin{array}{r}\n",
    "1 \\\\\n",
    "0\n",
    "\\end{array}\n",
    "\\right]\n",
    "=\\left[\n",
    "\\begin{array}{r}\n",
    "1 \\\\\n",
    "0\n",
    "\\end{array}\n",
    "\\right]\n",
    "=\\left| 0 \\right\\rangle$$"
   ]
  },
  {
   "cell_type": "markdown",
   "metadata": {},
   "source": [
    "$$ R_z(\\pi) \\left| 1 \\right\\rangle = \\left[\n",
    "\\begin{array}{rr}\n",
    "1 & 0 \\\\\n",
    "0 & e^{i\\pi}\n",
    "\\end{array}\n",
    "\\right]\n",
    "\\left[\n",
    "\\begin{array}{r}\n",
    "0 \\\\\n",
    "1\n",
    "\\end{array}\n",
    "\\right]\n",
    "=\\left[\n",
    "\\begin{array}{r}\n",
    "0 \\\\\n",
    "-1\n",
    "\\end{array}\n",
    "\\right]\n",
    "=-\\left| 1 \\right\\rangle$$"
   ]
  },
  {
   "cell_type": "code",
   "execution_count": 14,
   "metadata": {},
   "outputs": [
    {
     "name": "stdout",
     "output_type": "stream",
     "text": [
      "{'1': 1024}\n"
     ]
    },
    {
     "data": {
      "image/png": "[encoded data removed]",
      "text/plain": [
       "<Figure size 432x288 with 1 Axes>"
      ]
     },
     "metadata": {
      "needs_background": "light"
     },
     "output_type": "display_data"
    }
   ],
   "source": [
    "q = QuantumRegister(1)\n",
    "c = ClassicalRegister(1)\n",
    "qc = QuantumCircuit(q, c)\n",
    "\n",
    "qc.x(q[0])\n",
    "qc.rz(math.pi, q[0])\n",
    "qc.measure()\n",
    "\n",
    "r = execute(qc)\n",
    "print(r)\n",
    "plot_histogram(r)"
   ]
  },
  {
   "cell_type": "markdown",
   "metadata": {},
   "source": [
    "## 2-13: Unitary rotation gate $U_1$"
   ]
  },
  {
   "cell_type": "markdown",
   "metadata": {},
   "source": [
    "$$U_1(\\lambda) \n",
    "=\\left[\n",
    "\\begin{array}{rr}\n",
    "1 & 0 \\\\\n",
    "0 & e^{i\\lambda}\n",
    "\\end{array}\\right]$$"
   ]
  },
  {
   "cell_type": "markdown",
   "metadata": {},
   "source": [
    "ex: $\\lambda=\\pi$\n",
    "$$ U_1(\\pi) \\left| 0 \\right\\rangle = \\left[\n",
    "\\begin{array}{rr}\n",
    "1 & 0 \\\\\n",
    "0 & e^{i\\pi}\n",
    "\\end{array}\n",
    "\\right]\n",
    "\\left[\n",
    "\\begin{array}{r}\n",
    "1 \\\\\n",
    "0\n",
    "\\end{array}\n",
    "\\right]\n",
    "=\\left[\n",
    "\\begin{array}{r}\n",
    "1 \\\\\n",
    "0\n",
    "\\end{array}\n",
    "\\right]\n",
    "=\\left| 0 \\right\\rangle$$"
   ]
  },
  {
   "cell_type": "markdown",
   "metadata": {},
   "source": [
    "$$ U_1(\\pi) \\left| 1 \\right\\rangle = \\left[\n",
    "\\begin{array}{rr}\n",
    "1 & 0 \\\\\n",
    "0 & e^{i\\pi}\n",
    "\\end{array}\n",
    "\\right]\n",
    "\\left[\n",
    "\\begin{array}{r}\n",
    "0 \\\\\n",
    "1\n",
    "\\end{array}\n",
    "\\right]\n",
    "=\\left[\n",
    "\\begin{array}{r}\n",
    "0 \\\\\n",
    "-1\n",
    "\\end{array}\n",
    "\\right]\n",
    "=-\\left| 1 \\right\\rangle$$"
   ]
  },
  {
   "cell_type": "code",
   "execution_count": 15,
   "metadata": {},
   "outputs": [
    {
     "name": "stdout",
     "output_type": "stream",
     "text": [
      "{'1': 1024}\n"
     ]
    },
    {
     "data": {
      "image/png": "[encoded data removed]",
      "text/plain": [
       "<Figure size 432x288 with 1 Axes>"
      ]
     },
     "metadata": {
      "needs_background": "light"
     },
     "output_type": "display_data"
    }
   ],
   "source": [
    "q = QuantumRegister(1)\n",
    "c = ClassicalRegister(1)\n",
    "qc = QuantumCircuit(q, c)\n",
    "\n",
    "qc.x(q[0])\n",
    "qc.u1(math.pi, q[0])\n",
    "qc.measure()\n",
    "\n",
    "r = execute(qc)\n",
    "print(r)\n",
    "plot_histogram(r)"
   ]
  },
  {
   "cell_type": "markdown",
   "metadata": {},
   "source": [
    "## 2-14: Unitary rotation gate $U_2$"
   ]
  },
  {
   "cell_type": "markdown",
   "metadata": {},
   "source": [
    "$$U_2(\\phi, \\lambda) \n",
    "=\\frac{1}{\\sqrt{2}}\\left[\n",
    "\\begin{array}{rr}\n",
    "1 & -e^{i\\lambda} \\\\\n",
    "e^{i\\phi} & e^{i(\\lambda + \\phi)}\n",
    "\\end{array}\\right]$$"
   ]
  },
  {
   "cell_type": "markdown",
   "metadata": {},
   "source": [
    "ex: $\\phi=0,\\ \\ \\lambda=\\pi$\n",
    "$$ U_2(0, \\pi) \\left| 0 \\right\\rangle = \\frac{1}{\\sqrt{2}}\\left[\n",
    "\\begin{array}{rr}\n",
    "1 & -e^{i\\pi} \\\\\n",
    "e^{i0} & e^{i(\\pi + 0)}\n",
    "\\end{array}\\right]\n",
    "\\left[\n",
    "\\begin{array}{r}\n",
    "1 \\\\\n",
    "0\n",
    "\\end{array}\n",
    "\\right]\n",
    "=\\frac{1}{\\sqrt{2}}\\left[\n",
    "\\begin{array}{r}\n",
    "1 \\\\\n",
    "1\n",
    "\\end{array}\n",
    "\\right]\n",
    "=\\frac{\\left| 0 \\right\\rangle + \\left| 1 \\right\\rangle}{\\sqrt{2}}$$"
   ]
  },
  {
   "cell_type": "markdown",
   "metadata": {},
   "source": [
    "$$ U_2(0, \\pi) \\left| 1 \\right\\rangle = \\frac{1}{\\sqrt{2}}\\left[\n",
    "\\begin{array}{rr}\n",
    "1 & -e^{i\\pi} \\\\\n",
    "e^{i0} & e^{i(\\pi + 0)}\n",
    "\\end{array}\\right]\n",
    "\\left[\n",
    "\\begin{array}{r}\n",
    "0 \\\\\n",
    "1\n",
    "\\end{array}\n",
    "\\right]\n",
    "=\\frac{1}{\\sqrt{2}}\\left[\n",
    "\\begin{array}{r}\n",
    "1 \\\\\n",
    "-1\n",
    "\\end{array}\n",
    "\\right]\n",
    "=\\frac{\\left| 0 \\right\\rangle - \\left| 1 \\right\\rangle}{\\sqrt{2}}$$"
   ]
  },
  {
   "cell_type": "code",
   "execution_count": 16,
   "metadata": {},
   "outputs": [
    {
     "name": "stdout",
     "output_type": "stream",
     "text": [
      "{'0': 493, '1': 531}\n"
     ]
    },
    {
     "data": {
      "image/png": "[encoded data removed]",
      "text/plain": [
       "<Figure size 432x288 with 1 Axes>"
      ]
     },
     "metadata": {
      "needs_background": "light"
     },
     "output_type": "display_data"
    }
   ],
   "source": [
    "q = QuantumRegister(1)\n",
    "c = ClassicalRegister(1)\n",
    "qc = QuantumCircuit(q, c)\n",
    "\n",
    "qc.u2(0, math.pi, q[0])\n",
    "qc.measure()\n",
    "\n",
    "r = execute(qc)\n",
    "print(r)\n",
    "plot_histogram(r)"
   ]
  },
  {
   "cell_type": "markdown",
   "metadata": {},
   "source": [
    "## 2-15: Unitary rotation gate $U_3$"
   ]
  },
  {
   "cell_type": "markdown",
   "metadata": {},
   "source": [
    "$$U_3(\\theta, \\phi, \\lambda) \n",
    "=\\left[\n",
    "\\begin{array}{rr}\n",
    "\\cos{\\frac{\\theta}{2}} & -e^{i\\lambda}\\sin{\\frac{\\theta}{2}} \\\\\n",
    "e^{i\\phi}\\sin{\\frac{\\theta}{2}} & e^{i(\\lambda + \\phi)}\\cos{\\frac{\\theta}{2}}\n",
    "\\end{array}\\right]$$"
   ]
  },
  {
   "cell_type": "markdown",
   "metadata": {},
   "source": [
    "ex: $\\theta=\\pi,\\ \\ \\phi=0,\\ \\ \\lambda=\\pi$\n",
    "$$ U_3(\\pi, 0, \\pi) \\left| 0 \\right\\rangle = \\left[\n",
    "\\begin{array}{rr}\n",
    "\\cos{\\frac{\\pi}{2}} & -e^{i\\pi}\\sin{\\frac{\\pi}{2}} \\\\\n",
    "e^{i0}\\sin{\\frac{\\pi}{2}} & e^{i(\\pi + 0)}\\cos{\\frac{\\pi}{2}}\n",
    "\\end{array}\\right]\n",
    "\\left[\n",
    "\\begin{array}{r}\n",
    "1 \\\\\n",
    "0\n",
    "\\end{array}\n",
    "\\right]\n",
    "=\\left[\n",
    "\\begin{array}{r}\n",
    "0 \\\\\n",
    "1\n",
    "\\end{array}\n",
    "\\right]\n",
    "=\\left| 1 \\right\\rangle$$"
   ]
  },
  {
   "cell_type": "markdown",
   "metadata": {},
   "source": [
    "$$ U_3(\\pi, 0, \\pi) \\left| 1 \\right\\rangle = \\left[\n",
    "\\begin{array}{rr}\n",
    "\\cos{\\frac{\\pi}{2}} & -e^{i\\pi}\\sin{\\frac{\\pi}{2}} \\\\\n",
    "e^{i0}\\sin{\\frac{\\pi}{2}} & e^{i(\\pi + 0)}\\cos{\\frac{\\pi}{2}}\n",
    "\\end{array}\\right]\n",
    "\\left[\n",
    "\\begin{array}{r}\n",
    "0 \\\\\n",
    "1\n",
    "\\end{array}\n",
    "\\right]\n",
    "=\\left[\n",
    "\\begin{array}{r}\n",
    "1 \\\\\n",
    "0\n",
    "\\end{array}\n",
    "\\right]\n",
    "=\\left| 0 \\right\\rangle$$"
   ]
  },
  {
   "cell_type": "code",
   "execution_count": 17,
   "metadata": {},
   "outputs": [
    {
     "name": "stdout",
     "output_type": "stream",
     "text": [
      "{'1': 1024}\n"
     ]
    },
    {
     "data": {
      "image/png": "[encoded data removed]",
      "text/plain": [
       "<Figure size 432x288 with 1 Axes>"
      ]
     },
     "metadata": {
      "needs_background": "light"
     },
     "output_type": "display_data"
    }
   ],
   "source": [
    "q = QuantumRegister(1)\n",
    "c = ClassicalRegister(1)\n",
    "qc = QuantumCircuit(q, c)\n",
    "\n",
    "qc.u3(math.pi, 0, math.pi, q[0])\n",
    "qc.measure()\n",
    "\n",
    "r = execute(qc)\n",
    "print(r)\n",
    "plot_histogram(r)"
   ]
  },
  {
   "cell_type": "code",
   "execution_count": null,
   "metadata": {},
   "outputs": [],
   "source": []
  }
 ],
 "metadata": {
  "kernelspec": {
   "display_name": "Python 3",
   "language": "python",
   "name": "python3"
  },
  "language_info": {
   "codemirror_mode": {
    "name": "ipython",
    "version": 3
   },
   "file_extension": ".py",
   "mimetype": "text/x-python",
   "name": "python",
   "nbconvert_exporter": "python",
   "pygments_lexer": "ipython3",
   "version": "3.6.8"
  }
 },
 "nbformat": 4,
 "nbformat_minor": 1
}
