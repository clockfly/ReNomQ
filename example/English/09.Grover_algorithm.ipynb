{
 "cells": [
  {
   "cell_type": "markdown",
   "metadata": {},
   "source": [
    "# 9: Grover algorithm"
   ]
  },
  {
   "cell_type": "code",
   "execution_count": 1,
   "metadata": {},
   "outputs": [],
   "source": [
    "from renom_q import *"
   ]
  },
  {
   "cell_type": "markdown",
   "metadata": {},
   "source": [
    "Grover's algorithm is a quantum search algorithm that finds one from $N$ unmarshalled data."
   ]
  },
  {
   "cell_type": "markdown",
   "metadata": {},
   "source": [
    "## 9-1: Search method of Grover algorithm"
   ]
  },
  {
   "cell_type": "markdown",
   "metadata": {},
   "source": [
    "### (1) Superposition state with equal probability amplitude"
   ]
  },
  {
   "cell_type": "markdown",
   "metadata": {},
   "source": [
    "In case of $N=4$,\n",
    "$$\\left| \\phi \\right\\rangle=\\frac{1}{2}\\left( \\left| 0 \\right\\rangle + \\left| 1 \\right\\rangle + \\left| 2 \\right\\rangle + \\left| 3\\right\\rangle \\right) $$"
   ]
  },
  {
   "cell_type": "code",
   "execution_count": 2,
   "metadata": {},
   "outputs": [
    {
     "name": "stdout",
     "output_type": "stream",
     "text": [
      "{'00': 260, '01': 280, '10': 234, '11': 250}\n"
     ]
    },
    {
     "data": {
      "image/png": "[encoded data removed]",
      "text/plain": [
       "<Figure size 432x288 with 1 Axes>"
      ]
     },
     "metadata": {
      "needs_background": "light"
     },
     "output_type": "display_data"
    }
   ],
   "source": [
    "bn = 2\n",
    "q = QuantumRegister(bn)\n",
    "c = ClassicalRegister(bn)\n",
    "qc = QuantumCircuit(q, c)\n",
    "\n",
    "for i in range(bn):\n",
    "    qc.h(q[i])\n",
    "qc.measure()\n",
    "\n",
    "r = execute(qc)\n",
    "print(r)\n",
    "plot_histogram(r)"
   ]
  },
  {
   "cell_type": "markdown",
   "metadata": {},
   "source": [
    "### (2) Marking by phase inversion of search solution"
   ]
  },
  {
   "cell_type": "markdown",
   "metadata": {},
   "source": [
    "If the search solution is $\\left| 3 \\right\\rangle = \\left| 11 \\right\\rangle$,\n",
    "$$\\left| \\phi \\right\\rangle=\\frac{1}{2}\\left( \\left| 0 \\right\\rangle + \\left| 1 \\right\\rangle + \\left| 2 \\right\\rangle - \\left| 3\\right\\rangle \\right) $$"
   ]
  },
  {
   "cell_type": "code",
   "execution_count": 3,
   "metadata": {},
   "outputs": [
    {
     "name": "stdout",
     "output_type": "stream",
     "text": [
      "{'00': 246, '01': 267, '10': 252, '11': 259}\n"
     ]
    },
    {
     "data": {
      "image/png": "[encoded data removed]",
      "text/plain": [
       "<Figure size 432x288 with 1 Axes>"
      ]
     },
     "metadata": {
      "needs_background": "light"
     },
     "output_type": "display_data"
    }
   ],
   "source": [
    "bn = 2\n",
    "q = QuantumRegister(bn)\n",
    "c = ClassicalRegister(bn)\n",
    "qc = QuantumCircuit(q, c)\n",
    "\n",
    "for i in range(bn):\n",
    "    qc.h(q[i])\n",
    "qc.cz(q[0], q[1])\n",
    "qc.measure()\n",
    "\n",
    "r = execute(qc)\n",
    "print(r)\n",
    "plot_histogram(r)"
   ]
  },
  {
   "cell_type": "markdown",
   "metadata": {},
   "source": [
    "### (3) Inversion around the mean value of the probability amplitude (diffusion conversion)"
   ]
  },
  {
   "cell_type": "code",
   "execution_count": 4,
   "metadata": {},
   "outputs": [
    {
     "name": "stdout",
     "output_type": "stream",
     "text": [
      "[ 0.5+0.j  0.5+0.j  0.5+0.j -0.5+0.j]\n"
     ]
    }
   ],
   "source": [
    "bn = 2\n",
    "q = QuantumRegister(bn)\n",
    "c = ClassicalRegister(bn)\n",
    "qc = QuantumCircuit(q, c)\n",
    "\n",
    "for i in range(bn):\n",
    "    qc.h(q[i])\n",
    "qc.cz(q[0], q[1])\n",
    "\n",
    "print(statevector(qc))"
   ]
  },
  {
   "cell_type": "markdown",
   "metadata": {},
   "source": [
    "$$\\left\\langle av \\right\\rangle = \\frac{1}{4}\\left( \\frac{1}{2} + \\frac{1}{2} + \\frac{1}{2} - \\frac{1}{2} \\right) = \\frac{1}{4}$$\n",
    "\n",
    "$$\\left| \\phi \\right\\rangle = \\sum^3_{n=0}\\left[ \\left\\langle av \\right\\rangle + \\left( \\left\\langle av \\right\\rangle - \\alpha_n \\right) \\right] \\left| n \\right\\rangle = \\left| 3\\right\\rangle $$"
   ]
  },
  {
   "cell_type": "code",
   "execution_count": 5,
   "metadata": {},
   "outputs": [],
   "source": [
    "def deffusion4(qci, bn, a, b):\n",
    "    for i in range(bn):\n",
    "        qci.h(q[i])\n",
    "        qci.x(q[i])\n",
    "    qci.cz(q[a], q[b])\n",
    "    for i in range(bn):\n",
    "        qci.x(q[i])\n",
    "        qci.h(q[i])"
   ]
  },
  {
   "cell_type": "code",
   "execution_count": 6,
   "metadata": {},
   "outputs": [
    {
     "name": "stdout",
     "output_type": "stream",
     "text": [
      "{'11': 1024}\n"
     ]
    },
    {
     "data": {
      "image/png": "[encoded data removed]",
      "text/plain": [
       "<Figure size 432x288 with 1 Axes>"
      ]
     },
     "metadata": {
      "needs_background": "light"
     },
     "output_type": "display_data"
    }
   ],
   "source": [
    "bn = 2\n",
    "q = QuantumRegister(bn)\n",
    "c = ClassicalRegister(bn)\n",
    "qc = QuantumCircuit(q, c)\n",
    "\n",
    "for i in range(bn):\n",
    "    qc.h(q[i])\n",
    "qc.cz(q[0], q[1])\n",
    "\n",
    "deffusion4(qc, bn, 0, 1)\n",
    "\n",
    "qc.measure()\n",
    "\n",
    "r = execute(qc)\n",
    "print(r)\n",
    "plot_histogram(r)"
   ]
  },
  {
   "cell_type": "markdown",
   "metadata": {},
   "source": [
    "## 9-2: In case of another search solution"
   ]
  },
  {
   "cell_type": "code",
   "execution_count": 7,
   "metadata": {},
   "outputs": [],
   "source": [
    "def marking0(qci, a, b):\n",
    "    for i in range(2):\n",
    "        qci.s(q[i])\n",
    "    qci.cz(q[a], q[b])\n",
    "    for i in range(2):\n",
    "        qci.s(q[i])\n",
    "    \n",
    "def marking1(qci, a, b):\n",
    "    qci.s(q[b])\n",
    "    qci.cz(q[a], q[b])\n",
    "    qci.s(q[b])\n",
    "    \n",
    "def marking2(qci, a, b):\n",
    "    qci.s(q[a])\n",
    "    qci.cz(q[a], q[b])\n",
    "    qci.s(q[a])\n",
    "    \n",
    "def marking3(qci, a, b):\n",
    "    qci.cz(q[a], q[b])"
   ]
  },
  {
   "cell_type": "markdown",
   "metadata": {},
   "source": [
    "### (1) Search solution $\\left | 0 \\right\\rangle$"
   ]
  },
  {
   "cell_type": "code",
   "execution_count": 8,
   "metadata": {},
   "outputs": [
    {
     "name": "stdout",
     "output_type": "stream",
     "text": [
      "{'00': 1024}\n"
     ]
    },
    {
     "data": {
      "image/png": "[encoded data removed]",
      "text/plain": [
       "<Figure size 432x288 with 1 Axes>"
      ]
     },
     "metadata": {
      "needs_background": "light"
     },
     "output_type": "display_data"
    }
   ],
   "source": [
    "bn = 2\n",
    "q = QuantumRegister(bn)\n",
    "c = ClassicalRegister(bn)\n",
    "qc = QuantumCircuit(q, c)\n",
    "\n",
    "for i in range(bn):\n",
    "    qc.h(q[i])\n",
    "marking0(qc, 0, 1)\n",
    "\n",
    "deffusion4(qc, bn, 0, 1)\n",
    "\n",
    "qc.measure()\n",
    "\n",
    "r = execute(qc)\n",
    "print(r)\n",
    "plot_histogram(r)"
   ]
  },
  {
   "cell_type": "markdown",
   "metadata": {},
   "source": [
    "### (2) Search solution $\\left | 1 \\right\\rangle$"
   ]
  },
  {
   "cell_type": "code",
   "execution_count": 9,
   "metadata": {},
   "outputs": [
    {
     "name": "stdout",
     "output_type": "stream",
     "text": [
      "{'01': 1024}\n"
     ]
    },
    {
     "data": {
      "image/png": "[encoded data removed]",
      "text/plain": [
       "<Figure size 432x288 with 1 Axes>"
      ]
     },
     "metadata": {
      "needs_background": "light"
     },
     "output_type": "display_data"
    }
   ],
   "source": [
    "bn = 2\n",
    "q = QuantumRegister(bn)\n",
    "c = ClassicalRegister(bn)\n",
    "qc = QuantumCircuit(q, c)\n",
    "\n",
    "for i in range(bn):\n",
    "    qc.h(q[i])\n",
    "marking1(qc, 0, 1)\n",
    "\n",
    "deffusion4(qc, bn, 0, 1)\n",
    "\n",
    "qc.measure()\n",
    "\n",
    "r = execute(qc)\n",
    "print(r)\n",
    "plot_histogram(r)"
   ]
  },
  {
   "cell_type": "markdown",
   "metadata": {},
   "source": [
    "### (3) Search solution $\\left | 2 \\right\\rangle$"
   ]
  },
  {
   "cell_type": "code",
   "execution_count": 10,
   "metadata": {},
   "outputs": [
    {
     "name": "stdout",
     "output_type": "stream",
     "text": [
      "{'10': 1024}\n"
     ]
    },
    {
     "data": {
      "image/png": "[encoded data removed]",
      "text/plain": [
       "<Figure size 432x288 with 1 Axes>"
      ]
     },
     "metadata": {
      "needs_background": "light"
     },
     "output_type": "display_data"
    }
   ],
   "source": [
    "bn = 2\n",
    "q = QuantumRegister(bn)\n",
    "c = ClassicalRegister(bn)\n",
    "qc = QuantumCircuit(q, c)\n",
    "\n",
    "for i in range(bn):\n",
    "    qc.h(q[i])\n",
    "marking2(qc, 0, 1)\n",
    "\n",
    "deffusion4(qc, bn, 0, 1)\n",
    "\n",
    "qc.measure()\n",
    "\n",
    "r = execute(qc)\n",
    "print(r)\n",
    "plot_histogram(r)"
   ]
  },
  {
   "cell_type": "code",
   "execution_count": null,
   "metadata": {},
   "outputs": [],
   "source": []
  }
 ],
 "metadata": {
  "kernelspec": {
   "display_name": "Python 3",
   "language": "python",
   "name": "python3"
  },
  "language_info": {
   "codemirror_mode": {
    "name": "ipython",
    "version": 3
   },
   "file_extension": ".py",
   "mimetype": "text/x-python",
   "name": "python",
   "nbconvert_exporter": "python",
   "pygments_lexer": "ipython3",
   "version": "3.6.8"
  }
 },
 "nbformat": 4,
 "nbformat_minor": 2
}
