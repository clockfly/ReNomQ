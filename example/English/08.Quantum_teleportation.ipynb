{
 "cells": [
  {
   "cell_type": "markdown",
   "metadata": {},
   "source": [
    "# 8: 2-bit quantum teleportation"
   ]
  },
  {
   "cell_type": "code",
   "execution_count": 1,
   "metadata": {},
   "outputs": [],
   "source": [
    "from renom_q import *"
   ]
  },
  {
   "cell_type": "markdown",
   "metadata": {},
   "source": [
    "Quantum teleportation is a quantum communication protocol in which quantum states of two qubits can be transferred by transmitting two bits as classical information (00, 01, 10, 11)."
   ]
  },
  {
   "cell_type": "markdown",
   "metadata": {},
   "source": [
    "Alice as sender and Bob as recipient. Let $\\left| x \\right\\rangle=(\\left| 0 \\right\\rangle + \\left| 1 \\right\\rangle)/\\sqrt{2}$ be the information Alice wishes to send,"
   ]
  },
  {
   "cell_type": "markdown",
   "metadata": {},
   "source": [
    "$$\\frac{\\left| 0 \\right\\rangle + \\left| 1 \\right\\rangle}{\\sqrt{2}}\\left| 00 \\right\\rangle \\xrightarrow{I \\otimes H \\otimes I} \\frac{\\left| 0 \\right\\rangle + \\left| 1 \\right\\rangle}{\\sqrt{2}}\\frac{\\left| 0 \\right\\rangle + \\left| 1 \\right\\rangle}{\\sqrt{2}}\\left| 0 \\right\\rangle \\xrightarrow{cx_{12}} \\frac{\\left| 0 \\right\\rangle + \\left| 1 \\right\\rangle}{\\sqrt{2}}\\frac{\\left| 00 \\right\\rangle + \\left| 11 \\right\\rangle}{\\sqrt{2}} \\\\\n",
    "\\xrightarrow{cx_{01}} \\frac{1}{2} \\left[ \\left| 000 \\right\\rangle + \\left| 001 \\right\\rangle + \\left| 110 \\right\\rangle + \\left| 101 \\right\\rangle \\right] \\xrightarrow{H \\otimes I \\otimes I} \\frac{1}{2} \\left[ \\frac{\\left| 0 \\right\\rangle + \\left| 1 \\right\\rangle}{\\sqrt{2}} \\left( \\left| 00 \\right\\rangle + \\left| 11 \\right\\rangle \\right) + \\frac{\\left| 0 \\right\\rangle - \\left| 1 \\right\\rangle}{\\sqrt{2}} \\left( \\left| 01 \\right\\rangle + \\left| 10 \\right\\rangle \\right) \\right] \\\\\n",
    "\\xrightarrow{cx_{12}} \\frac{1}{2} \\left[ \\frac{\\left| 0 \\right\\rangle + \\left| 1 \\right\\rangle}{\\sqrt{2}} \\left( \\left| 00 \\right\\rangle + \\left| 10 \\right\\rangle \\right) + \\frac{\\left| 0 \\right\\rangle - \\left| 1 \\right\\rangle}{\\sqrt{2}} \\left( \\left| 01 \\right\\rangle + \\left| 11 \\right\\rangle \\right) \\right] \\xrightarrow{cz_{02}} \\frac{1}{2} \\left[ \\left| 00 \\right\\rangle + \\left| 01 \\right\\rangle + \\left| 10 \\right\\rangle + \\left| 11 \\right\\rangle \\right] \\frac{\\left| 0 \\right\\rangle + \\left| 1 \\right\\rangle}{\\sqrt{2}} $$"
   ]
  },
  {
   "cell_type": "code",
   "execution_count": 2,
   "metadata": {},
   "outputs": [],
   "source": [
    "def qt(qci, a, ae, b):\n",
    "    qci.h(ae)\n",
    "    qci.cx(ae, b)\n",
    "    qci.cx(a, ae)\n",
    "    qci.h(a)\n",
    "    qci.cx(ae, b)\n",
    "    qci.cz(a, b)"
   ]
  },
  {
   "cell_type": "markdown",
   "metadata": {},
   "source": [
    "## Example1: Transmission data $\\left| x \\right\\rangle=(\\left| 0 \\right\\rangle + \\left| 1 \\right\\rangle)/\\sqrt{2}$ (H gate)"
   ]
  },
  {
   "cell_type": "code",
   "execution_count": 3,
   "metadata": {},
   "outputs": [
    {
     "name": "stdout",
     "output_type": "stream",
     "text": [
      "{'0': 519, '1': 505}\n"
     ]
    },
    {
     "data": {
      "image/png": "[encoded data removed]",
      "text/plain": [
       "<Figure size 432x288 with 1 Axes>"
      ]
     },
     "metadata": {
      "needs_background": "light"
     },
     "output_type": "display_data"
    }
   ],
   "source": [
    "ba = 2       #Alice\n",
    "bb = 1       #Bob\n",
    "cn = 1       #Bob\n",
    "qa = QuantumRegister(ba, \"alice\")\n",
    "qb = QuantumRegister(bb, \"bob\")\n",
    "c = ClassicalRegister(cn, \"bob1\")\n",
    "qc = QuantumCircuit(qa, qb, c)\n",
    "\n",
    "qc.h(qa[0])\n",
    "\n",
    "qt(qc, qa[0], qa[1], qb[0])\n",
    "qc.measure(qb[0], c[0])\n",
    "\n",
    "r = execute(qc)\n",
    "print(r)\n",
    "plot_histogram(r)"
   ]
  },
  {
   "cell_type": "markdown",
   "metadata": {},
   "source": [
    "## Example2: Transmission data $\\left| x \\right\\rangle=\\left| 0 \\right\\rangle$ (No gate)"
   ]
  },
  {
   "cell_type": "code",
   "execution_count": 4,
   "metadata": {},
   "outputs": [
    {
     "name": "stdout",
     "output_type": "stream",
     "text": [
      "{'0': 1024}\n"
     ]
    },
    {
     "data": {
      "image/png": "[encoded data removed]",
      "text/plain": [
       "<Figure size 432x288 with 1 Axes>"
      ]
     },
     "metadata": {
      "needs_background": "light"
     },
     "output_type": "display_data"
    }
   ],
   "source": [
    "ba = 2       #Alice\n",
    "bb = 1       #Bob\n",
    "cn = 1       #Bob\n",
    "qa = QuantumRegister(ba, \"alice\")\n",
    "qb = QuantumRegister(bb, \"bob\")\n",
    "c = ClassicalRegister(cn, \"bob1\")\n",
    "qc = QuantumCircuit(qa, qb, c)\n",
    "\n",
    "qt(qc, qa[0], qa[1], qb[0])\n",
    "qc.measure(qb[0], c[0])\n",
    "\n",
    "r = execute(qc)\n",
    "print(r)\n",
    "plot_histogram(r)"
   ]
  },
  {
   "cell_type": "markdown",
   "metadata": {},
   "source": [
    "## Example3: Transmission data $\\left| x \\right\\rangle=\\left| 1 \\right\\rangle$ (X gate)"
   ]
  },
  {
   "cell_type": "code",
   "execution_count": 5,
   "metadata": {},
   "outputs": [
    {
     "name": "stdout",
     "output_type": "stream",
     "text": [
      "{'1': 1024}\n"
     ]
    },
    {
     "data": {
      "image/png": "[encoded data removed]",
      "text/plain": [
       "<Figure size 432x288 with 1 Axes>"
      ]
     },
     "metadata": {
      "needs_background": "light"
     },
     "output_type": "display_data"
    }
   ],
   "source": [
    "ba = 2       #Alice\n",
    "bb = 1       #Bob\n",
    "cn = 1       #Bob\n",
    "qa = QuantumRegister(ba, \"alice\")\n",
    "qb = QuantumRegister(bb, \"bob\")\n",
    "c = ClassicalRegister(cn, \"bob1\")\n",
    "qc = QuantumCircuit(qa, qb, c)\n",
    "\n",
    "qc.x(qa[0])\n",
    "\n",
    "qt(qc, qa[0], qa[1], qb[0])\n",
    "qc.measure(qb[0], c[0])\n",
    "\n",
    "r = execute(qc)\n",
    "print(r)\n",
    "plot_histogram(r)"
   ]
  },
  {
   "cell_type": "markdown",
   "metadata": {},
   "source": [
    "## Example4: Transmission data $\\left| x \\right\\rangle=- \\left| 1 \\right\\rangle$ (X gate, Z gate)"
   ]
  },
  {
   "cell_type": "code",
   "execution_count": 6,
   "metadata": {},
   "outputs": [
    {
     "name": "stdout",
     "output_type": "stream",
     "text": [
      "{'1': 1024}\n"
     ]
    },
    {
     "data": {
      "image/png": "[encoded data removed]",
      "text/plain": [
       "<Figure size 432x288 with 1 Axes>"
      ]
     },
     "metadata": {
      "needs_background": "light"
     },
     "output_type": "display_data"
    }
   ],
   "source": [
    "ba = 2       #Alice\n",
    "bb = 1       #Bob\n",
    "cn = 1       #Bob\n",
    "qa = QuantumRegister(ba, \"alice\")\n",
    "qb = QuantumRegister(bb, \"bob\")\n",
    "c = ClassicalRegister(cn, \"bob1\")\n",
    "qc = QuantumCircuit(qa, qb, c)\n",
    "\n",
    "qc.x(qa[0])\n",
    "qc.z(qa[0])\n",
    "\n",
    "qt(qc, qa[0], qa[1], qb[0])\n",
    "qc.measure(qb[0], c[0])\n",
    "\n",
    "r = execute(qc)\n",
    "print(r)\n",
    "plot_histogram(r)"
   ]
  },
  {
   "cell_type": "markdown",
   "metadata": {},
   "source": [
    "## Example5: Transmission data $\\left| x \\right\\rangle=i \\left| 1 \\right\\rangle$ (Y gate)"
   ]
  },
  {
   "cell_type": "code",
   "execution_count": 7,
   "metadata": {},
   "outputs": [
    {
     "name": "stdout",
     "output_type": "stream",
     "text": [
      "{'1': 1024}\n"
     ]
    },
    {
     "data": {
      "image/png": "[encoded data removed]",
      "text/plain": [
       "<Figure size 432x288 with 1 Axes>"
      ]
     },
     "metadata": {
      "needs_background": "light"
     },
     "output_type": "display_data"
    }
   ],
   "source": [
    "ba = 2       #Alice\n",
    "bb = 1       #Bob\n",
    "cn = 1       #Bob\n",
    "qa = QuantumRegister(ba, \"alice\")\n",
    "qb = QuantumRegister(bb, \"bob\")\n",
    "c = ClassicalRegister(cn, \"bob1\")\n",
    "qc = QuantumCircuit(qa, qb, c)\n",
    "\n",
    "qc.y(qa[0])\n",
    "\n",
    "qt(qc, qa[0], qa[1], qb[0])\n",
    "qc.measure(qb[0], c[0])\n",
    "\n",
    "r = execute(qc)\n",
    "print(r)\n",
    "plot_histogram(r)"
   ]
  },
  {
   "cell_type": "code",
   "execution_count": null,
   "metadata": {},
   "outputs": [],
   "source": []
  }
 ],
 "metadata": {
  "kernelspec": {
   "display_name": "Python 3",
   "language": "python",
   "name": "python3"
  },
  "language_info": {
   "codemirror_mode": {
    "name": "ipython",
    "version": 3
   },
   "file_extension": ".py",
   "mimetype": "text/x-python",
   "name": "python",
   "nbconvert_exporter": "python",
   "pygments_lexer": "ipython3",
   "version": "3.6.8"
  }
 },
 "nbformat": 4,
 "nbformat_minor": 2
}
