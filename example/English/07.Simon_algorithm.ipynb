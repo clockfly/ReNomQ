{
 "cells": [
  {
   "cell_type": "markdown",
   "metadata": {},
   "source": [
    "# 7: Simon algorithm"
   ]
  },
  {
   "cell_type": "code",
   "execution_count": 1,
   "metadata": {},
   "outputs": [],
   "source": [
    "from renom_q import *"
   ]
  },
  {
   "cell_type": "markdown",
   "metadata": {},
   "source": [
    "For the $n$-bit function $f(x)$ that is promised to have a secret key $s$ that satisfies the $n$-bit variable $x$ and "
   ]
  },
  {
   "cell_type": "markdown",
   "metadata": {},
   "source": [
    "$$f(x) = f(x \\oplus s),$$"
   ]
  },
  {
   "cell_type": "markdown",
   "metadata": {},
   "source": [
    "the Simon problem is a problem of finding the secret key $s$.\n",
    "$$x \\oplus s = (x_0 \\oplus s_0, x_1 \\oplus s_1, \\dots, x_{n-1} \\oplus s_{n-1})$$"
   ]
  },
  {
   "cell_type": "markdown",
   "metadata": {},
   "source": [
    "$$\\left| x_0 x_1 \\right\\rangle\\left| 00 \\right\\rangle \\xrightarrow{U_f} \\left| x_0 x_1 \\right\\rangle\\left| 00 \\oplus f(x_0 x_1) \\right\\rangle = \\left| x_0 x_1 \\right\\rangle\\left| f(x_0 x_1) \\right\\rangle$$"
   ]
  },
  {
   "cell_type": "markdown",
   "metadata": {},
   "source": [
    "When $n = 2$, the function table with the secret key $s$ other than 0 becomes as follows. The function value is arbitrary."
   ]
  },
  {
   "cell_type": "markdown",
   "metadata": {},
   "source": [
    "- In case of $s=01$\n",
    "\n",
    "|$x$|f(x)|\n",
    "|:-:|:-:|\n",
    "|00|1|\n",
    "|01|1|\n",
    "|10|0|\n",
    "|11|0|\n",
    "\n",
    "- In case of $s=10$\n",
    "\n",
    "|$x$| f(x)|\n",
    "|:-:|:-:|\n",
    "|00|1|\n",
    "|01|2|\n",
    "|10|1|\n",
    "|11|2|\n",
    "\n",
    "- In case of $s=11$\n",
    "\n",
    "|$x$| f(x)|\n",
    "|:-:|:-:|\n",
    "|00|1|\n",
    "|01|3|\n",
    "|10|3|\n",
    "|11|1|"
   ]
  },
  {
   "cell_type": "markdown",
   "metadata": {},
   "source": [
    "## Example1: the secret key $s=3=11_{(2)}$"
   ]
  },
  {
   "cell_type": "code",
   "execution_count": 2,
   "metadata": {},
   "outputs": [
    {
     "name": "stdout",
     "output_type": "stream",
     "text": [
      "{'00': 523, '11': 501}\n"
     ]
    },
    {
     "data": {
      "image/png": "[encoded data removed]",
      "text/plain": [
       "<Figure size 432x288 with 1 Axes>"
      ]
     },
     "metadata": {
      "needs_background": "light"
     },
     "output_type": "display_data"
    }
   ],
   "source": [
    "def s_oracle(qci, x0, x1, f_x0, f_x1):\n",
    "    qci.x(f_x1)\n",
    "    qci.cx(x0, f_x0)\n",
    "    qci.cx(x1, f_x0)\n",
    "    \n",
    "bn = 4\n",
    "cn = 2\n",
    "q = QuantumRegister(bn)\n",
    "c = ClassicalRegister(cn)\n",
    "qc = QuantumCircuit(q, c)\n",
    "\n",
    "for i in range(2):\n",
    "    qc.h(q[i])\n",
    "\n",
    "s_oracle(qc, q[0], q[1], q[2], q[3])\n",
    "\n",
    "for i in range(2):\n",
    "    qc.h(q[i])\n",
    "\n",
    "for i in range(cn):\n",
    "    qc.measure(q[i], c[i])\n",
    "    \n",
    "r = execute(qc)\n",
    "print(r)\n",
    "plot_histogram(r)"
   ]
  },
  {
   "cell_type": "markdown",
   "metadata": {},
   "source": [
    "$\\left| y \\right\\rangle = \\left| 00 \\right\\rangle$ and $\\left| y \\right\\rangle = \\left| 11 \\right\\rangle$ are observed. If $\\left| 11 \\right\\rangle$, the secret key 𝑠 is obtained from the following expression."
   ]
  },
  {
   "cell_type": "markdown",
   "metadata": {},
   "source": [
    "$$y \\cdot s = (y_0 s_0) \\oplus (y_1 s_1) = 0$$"
   ]
  },
  {
   "cell_type": "markdown",
   "metadata": {},
   "source": [
    "$$\\rightarrow s=11$$"
   ]
  },
  {
   "cell_type": "markdown",
   "metadata": {},
   "source": [
    "## Example2: the secret key $s=1=01_{(2)}$"
   ]
  },
  {
   "cell_type": "code",
   "execution_count": 3,
   "metadata": {},
   "outputs": [
    {
     "name": "stdout",
     "output_type": "stream",
     "text": [
      "{'00': 498, '10': 526}\n"
     ]
    },
    {
     "data": {
      "image/png": "[encoded data removed]",
      "text/plain": [
       "<Figure size 432x288 with 1 Axes>"
      ]
     },
     "metadata": {
      "needs_background": "light"
     },
     "output_type": "display_data"
    }
   ],
   "source": [
    "def s_oracle(qci, x0, x1, f_x0, f_x1):\n",
    "    qci.x(f_x1)\n",
    "    qci.cx(x0, f_x1)\n",
    "    \n",
    "bn = 4 \n",
    "cn = 2\n",
    "q = QuantumRegister(bn)\n",
    "c = ClassicalRegister(cn)\n",
    "qc = QuantumCircuit(q, c)\n",
    "\n",
    "for i in range(2):\n",
    "    qc.h(q[i])\n",
    "\n",
    "s_oracle(qc, q[0], q[1], q[2], q[3])\n",
    "\n",
    "for i in range(2):\n",
    "    qc.h(q[i])\n",
    "\n",
    "for i in range(cn):\n",
    "    qc.measure(q[i], c[i])\n",
    "    \n",
    "r = execute(qc)\n",
    "print(r)\n",
    "plot_histogram(r)"
   ]
  },
  {
   "cell_type": "markdown",
   "metadata": {},
   "source": [
    "$\\left| y \\right\\rangle = \\left| 00 \\right\\rangle$ and $\\left| y \\right\\rangle = \\left| 10 \\right\\rangle$ are observed. If $\\left| 10 \\right\\rangle$, the secret key 𝑠 is obtained from the following expression."
   ]
  },
  {
   "cell_type": "markdown",
   "metadata": {},
   "source": [
    "$$y \\cdot s = (y_0 s_0) \\oplus (y_1 s_1) = 0$$"
   ]
  },
  {
   "cell_type": "markdown",
   "metadata": {},
   "source": [
    "$$\\rightarrow s=01$$"
   ]
  },
  {
   "cell_type": "markdown",
   "metadata": {},
   "source": [
    "## Example3: the secret key $s=2=10_{(2)}$"
   ]
  },
  {
   "cell_type": "code",
   "execution_count": 4,
   "metadata": {},
   "outputs": [
    {
     "name": "stdout",
     "output_type": "stream",
     "text": [
      "{'00': 515, '01': 509}\n"
     ]
    },
    {
     "data": {
      "image/png": "[encoded data removed]",
      "text/plain": [
       "<Figure size 432x288 with 1 Axes>"
      ]
     },
     "metadata": {
      "needs_background": "light"
     },
     "output_type": "display_data"
    }
   ],
   "source": [
    "def s_oracle(qci, x0, x1, f_x0, f_x1):\n",
    "    qci.x(f_x1)\n",
    "    qci.cx(x1, f_x0)\n",
    "    \n",
    "bn = 4\n",
    "cn = 2\n",
    "q = QuantumRegister(bn)\n",
    "c = ClassicalRegister(cn)\n",
    "qc = QuantumCircuit(q, c)\n",
    "\n",
    "for i in range(2):\n",
    "    qc.h(q[i])\n",
    "\n",
    "s_oracle(qc, q[0], q[1], q[2], q[3])\n",
    "\n",
    "for i in range(2):\n",
    "    qc.h(q[i])\n",
    "\n",
    "for i in range(cn):\n",
    "    qc.measure(q[i], c[i])\n",
    "    \n",
    "r = execute(qc)\n",
    "print(r)\n",
    "plot_histogram(r)"
   ]
  },
  {
   "cell_type": "markdown",
   "metadata": {},
   "source": [
    "$\\left| y \\right\\rangle = \\left| 00 \\right\\rangle$ and $\\left| y \\right\\rangle = \\left| 01 \\right\\rangle$ are observed. If $\\left| 01 \\right\\rangle$, the secret key 𝑠 is obtained from the following expression."
   ]
  },
  {
   "cell_type": "markdown",
   "metadata": {},
   "source": [
    "$$y \\cdot s = (y_0 s_0) \\oplus (y_1 s_1) = 0$$"
   ]
  },
  {
   "cell_type": "markdown",
   "metadata": {},
   "source": [
    "$$\\rightarrow s=10$$"
   ]
  },
  {
   "cell_type": "code",
   "execution_count": null,
   "metadata": {},
   "outputs": [],
   "source": []
  }
 ],
 "metadata": {
  "kernelspec": {
   "display_name": "Python 3",
   "language": "python",
   "name": "python3"
  },
  "language_info": {
   "codemirror_mode": {
    "name": "ipython",
    "version": 3
   },
   "file_extension": ".py",
   "mimetype": "text/x-python",
   "name": "python",
   "nbconvert_exporter": "python",
   "pygments_lexer": "ipython3",
   "version": "3.6.8"
  }
 },
 "nbformat": 4,
 "nbformat_minor": 2
}
