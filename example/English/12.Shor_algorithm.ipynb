{
 "cells": [
  {
   "cell_type": "markdown",
   "metadata": {},
   "source": [
    "# 12: Shor algorithm"
   ]
  },
  {
   "cell_type": "code",
   "execution_count": 1,
   "metadata": {},
   "outputs": [],
   "source": [
    "from renom_q import *\n",
    "import math"
   ]
  },
  {
   "cell_type": "markdown",
   "metadata": {},
   "source": [
    "## 12-1: Classical factorization algorithm"
   ]
  },
  {
   "cell_type": "markdown",
   "metadata": {},
   "source": [
    "Method of classical factorization (N=15)"
   ]
  },
  {
   "cell_type": "markdown",
   "metadata": {},
   "source": [
    "We randomly choose a disjoint integer $a\\in [2, N-1]=\\{2, 4, 7, 8, 11, 13, 14\\}$ smaller than $N$."
   ]
  },
  {
   "cell_type": "markdown",
   "metadata": {},
   "source": [
    "For example as $a=7$. Consider the function $f(x)=a^x\\ \\mathrm{mod}\\ N\\ (x=0, 1, 2, \\dots)$ and find the minimum period $r$ that satisfies $f(x)=f(x+r)$."
   ]
  },
  {
   "cell_type": "markdown",
   "metadata": {},
   "source": [
    "$$f(x)=f(x+r) \\rightarrow a^x\\ \\mathrm{mod}\\ N = a^{x+r}\\ \\mathrm{mod}\\ N \\rightarrow a^r\\ \\mathrm{mod}\\ N =1$$"
   ]
  },
  {
   "cell_type": "markdown",
   "metadata": {},
   "source": [
    "If this period $r$ is an even number, a factor can be found using Euclid's algorithm. If $r$ is an odd number, select the integer $a$ again."
   ]
  },
  {
   "cell_type": "markdown",
   "metadata": {},
   "source": [
    "$$a^r\\ \\mathrm{mod}\\ N =1 \\rightarrow (a^{r/2}-1)(a^{r/2}+1)\\ \\mathrm{mod}\\ N =0 \\rightarrow \\mathrm{Find\\ the\\ greatest\\ common\\ divisor\\ } \\mathrm{gcd}(a^{r/2}\\pm 1, N)$$"
   ]
  },
  {
   "cell_type": "markdown",
   "metadata": {},
   "source": [
    "When $N=15$ and $a=7$, you can calculate as follows."
   ]
  },
  {
   "cell_type": "markdown",
   "metadata": {},
   "source": [
    "$$f(0)=1,\\ \\ f(1)=7,\\ \\ f(2)=4,\\ \\ f(3)=13,\\ \\ f(4)=1,\\dots$$"
   ]
  },
  {
   "cell_type": "markdown",
   "metadata": {},
   "source": [
    "Since the period $r=4$ is an even number,"
   ]
  },
  {
   "cell_type": "markdown",
   "metadata": {},
   "source": [
    "$$a^{r/2}\\pm 1 = 7^{4/2} \\pm 1 =\\{48, 50\\} \\rightarrow \\mathrm{gcd}(48, 15)=3,\\ \\ \\mathrm{gcd}(50, 15)=5$$"
   ]
  },
  {
   "cell_type": "markdown",
   "metadata": {},
   "source": [
    "Therefore, the factors 3 and 5 of $N=15$ are obtained."
   ]
  },
  {
   "cell_type": "markdown",
   "metadata": {},
   "source": [
    "## 12-2: The Quantum circuit"
   ]
  },
  {
   "cell_type": "markdown",
   "metadata": {},
   "source": [
    "Make function $f(x)=7^x\\ \\mathrm{mod}\\ 15$ a quantum function. When binary number expresses that the numerical value $x=0, 1, 2,...$ of the variable $x$ is added to the function $f(x)=7^x\\ \\mathrm{mod}\\ 15$, it is as shown in the table below."
   ]
  },
  {
   "cell_type": "markdown",
   "metadata": {},
   "source": [
    "|$x_0$|$x_1$|$x_2$|$y_0$|$y_1$|$y_2$|$y_3$|\n",
    "|:-:|:-:|:-:|:-:|:-:|:-:|:-:|\n",
    "|0|0|0|0|0|0|1|\n",
    "|0|0|1|0|1|1|1|\n",
    "|0|1|0|0|1|0|0|\n",
    "| 0 |1|1|1|1|0|1|\n",
    "|**1**|0|0|0|0|0|1|\n",
    "|**1**|0|1|0|1|1|1|\n",
    "|**1**|1|0|0|1|0|0|\n",
    "|**1**|1|1|1|1|0|1|"
   ]
  },
  {
   "cell_type": "markdown",
   "metadata": {},
   "source": [
    "A quantum gate is constructed based on this table. For example, in $x=x_0x_1x_2=000=0$, it suffices to apply bit inversion operation X to $y_3$ so that it becomes $y=y_0y_1y_2y_3=0001=1$."
   ]
  },
  {
   "cell_type": "code",
   "execution_count": 2,
   "metadata": {},
   "outputs": [
    {
     "name": "stdout",
     "output_type": "stream",
     "text": [
      "{'0001': 248, '0100': 262, '0111': 242, '1101': 272}\n"
     ]
    },
    {
     "data": {
      "image/png": "[encoded data removed]",
      "text/plain": [
       "<Figure size 432x288 with 1 Axes>"
      ]
     },
     "metadata": {
      "needs_background": "light"
     },
     "output_type": "display_data"
    }
   ],
   "source": [
    "bx = 3\n",
    "by = 4\n",
    "cn = 4\n",
    "qx = QuantumRegister(bx, \"xq\")\n",
    "qy = QuantumRegister(by, \"yq\")\n",
    "c = ClassicalRegister(cn)\n",
    "qc = QuantumCircuit(qx, qy, c)\n",
    "\n",
    "\n",
    "for i in range(bx):\n",
    "    qc.h(qx[i])\n",
    "\n",
    "qc.x(qy[3])    \n",
    "qc.cx(qx[2], qy[1])\n",
    "qc.cx(qx[2], qy[2])\n",
    "qc.cx(qx[1], qy[1])\n",
    "qc.cx(qx[1], qy[3])\n",
    "qc.ccx(qx[1], qx[2], qy[0])\n",
    "qc.ccx(qx[1], qx[2], qy[1])\n",
    "qc.ccx(qx[1], qx[2], qy[2])\n",
    "qc.ccx(qx[1], qx[2], qy[3])\n",
    "\n",
    "qc.measure(qy, c)\n",
    "    \n",
    "r = execute(qc)\n",
    "print(r)\n",
    "plot_histogram(r)"
   ]
  },
  {
   "cell_type": "markdown",
   "metadata": {},
   "source": [
    "Therefore, since the function value appears repeatedly at the input of 8 types of superposition states as follows, 4 kinds of outputs are obtained."
   ]
  },
  {
   "cell_type": "markdown",
   "metadata": {},
   "source": [
    "$$\\left| f(0) \\right\\rangle + \\left| f(1) \\right\\rangle + \\left| f(2) \\right\\rangle + \\left| f(3) \\right\\rangle + \\left| f(4) \\right\\rangle + \\left| f(5) \\right\\rangle + \\left| f(6) \\right\\rangle + \\left| f(7) \\right\\rangle \\rightarrow \\left| 1 \\right\\rangle + \\left| 7 \\right\\rangle + \\left| 4 \\right\\rangle + \\left| 13 \\right\\rangle$$"
   ]
  },
  {
   "cell_type": "markdown",
   "metadata": {},
   "source": [
    "## 12-3: Quantum oracle"
   ]
  },
  {
   "cell_type": "markdown",
   "metadata": {},
   "source": [
    "Quantum oracle\n",
    "$$\\left| x \\right\\rangle \\left| y \\right\\rangle \\xrightarrow{U_f} \\left| x \\right\\rangle \\left| y \\oplus f(x) \\right\\rangle$$"
   ]
  },
  {
   "cell_type": "markdown",
   "metadata": {},
   "source": [
    "When $\\left| y \\right\\rangle$ is set to $\\left| 0 \\right\\rangle$, the output becomes $f(x)$ only.\n",
    "$$\\left| x \\right\\rangle \\left| 0 \\right\\rangle \\xrightarrow{U_f} \\left| x \\right\\rangle \\left| 0 \\oplus f(x) \\right\\rangle = \\left| x \\right\\rangle \\left| f(x) \\right\\rangle$$"
   ]
  },
  {
   "cell_type": "markdown",
   "metadata": {},
   "source": [
    "By applying the superposition state to this expression, shift invariance works for function $f(x)=7^x\\ \\mathrm{mod}\\ 15$, and although there is a difference in phase, it becomes as follows."
   ]
  },
  {
   "cell_type": "markdown",
   "metadata": {},
   "source": [
    "$$\\left| 0 \\right\\rangle \\left| 0 \\right\\rangle \\xrightarrow{H \\otimes I} \\xrightarrow{U_f} \\xrightarrow{QFT^{-1} \\otimes I} \\left( \\left| 0 \\right\\rangle + \\left| 2 \\right\\rangle + \\left| 4 \\right\\rangle + \\left| 6 \\right\\rangle \\right) \\left| f(x) \\right\\rangle$$"
   ]
  },
  {
   "cell_type": "markdown",
   "metadata": {},
   "source": [
    "That is, no matter what function value $\\left| 1 \\right\\rangle,\\ \\ \\left| 4 \\right\\rangle,\\ \\ \\left| 7 \\right\\rangle,\\ \\ \\left| 13 \\right\\rangle$ is observed, if $\\left| x \\right\\rangle$ is subjected to inverse quantum Fourier transform, only the same quantum state $\\left| 0 \\right\\rangle,\\ \\ \\left| 2 \\right\\rangle,\\ \\ \\left| 4 \\right\\rangle,\\ \\ \\left| 6 \\right\\rangle$ is observed, although there is a difference in phase due to shift invariance."
   ]
  },
  {
   "cell_type": "markdown",
   "metadata": {},
   "source": [
    "$$\\left| 0 \\right\\rangle \\left| 0 \\right\\rangle + \\left| 4 \\right\\rangle \\left| 0 \\right\\rangle \\rightarrow \\left| 0 \\right\\rangle \\left| f(0) \\right\\rangle + \\left| 4 \\right\\rangle \\left| f(4) \\right\\rangle = \\left| 0 \\right\\rangle \\left| 1 \\right\\rangle + \\left| 4 \\right\\rangle \\left| 1 \\right\\rangle = \\left( \\left| 0 \\right\\rangle + \\left| 4 \\right\\rangle \\right) \\left| 1 \\right\\rangle \\rightarrow \\left( \\left| 0 \\right\\rangle,\\left| 2 \\right\\rangle,\\left| 4 \\right\\rangle,\\left| 6 \\right\\rangle \\right) \\left| 1 \\right\\rangle$$\n",
    "\n",
    "$$\\left| 1 \\right\\rangle \\left| 0 \\right\\rangle + \\left| 5 \\right\\rangle \\left| 0 \\right\\rangle \\rightarrow \\left| 1 \\right\\rangle \\left| f(1) \\right\\rangle + \\left| 5 \\right\\rangle \\left| f(5) \\right\\rangle = \\left| 1 \\right\\rangle \\left| 7 \\right\\rangle + \\left| 5 \\right\\rangle \\left| 7 \\right\\rangle = \\left( \\left| 1 \\right\\rangle + \\left| 5 \\right\\rangle \\right) \\left| 7 \\right\\rangle \\rightarrow \\left( \\left| 0 \\right\\rangle,\\left| 2 \\right\\rangle,\\left| 4 \\right\\rangle,\\left| 6 \\right\\rangle \\right) \\left| 7 \\right\\rangle$$\n",
    "\n",
    "$$\\left| 2 \\right\\rangle \\left| 0 \\right\\rangle + \\left| 6 \\right\\rangle \\left| 0 \\right\\rangle \\rightarrow \\left| 2 \\right\\rangle \\left| f(2) \\right\\rangle + \\left| 6 \\right\\rangle \\left| f(6) \\right\\rangle = \\left| 2 \\right\\rangle \\left| 4 \\right\\rangle + \\left| 6 \\right\\rangle \\left| 4 \\right\\rangle = \\left( \\left| 2 \\right\\rangle + \\left| 6 \\right\\rangle \\right) \\left| 4 \\right\\rangle \\rightarrow \\left( \\left| 0 \\right\\rangle,\\left| 2 \\right\\rangle,\\left| 4 \\right\\rangle,\\left| 6 \\right\\rangle \\right) \\left| 4 \\right\\rangle$$\n",
    "\n",
    "$$\\left| 3 \\right\\rangle \\left| 0 \\right\\rangle + \\left| 7 \\right\\rangle \\left| 0 \\right\\rangle \\rightarrow \\left| 3 \\right\\rangle \\left| f(3) \\right\\rangle + \\left| 7 \\right\\rangle \\left| f(7) \\right\\rangle = \\left| 3 \\right\\rangle \\left| 13 \\right\\rangle + \\left| 7 \\right\\rangle \\left| 13 \\right\\rangle = \\left( \\left| 3 \\right\\rangle + \\left| 7 \\right\\rangle \\right) \\left| 13 \\right\\rangle \\rightarrow \\left( \\left| 0 \\right\\rangle,\\left| 2 \\right\\rangle,\\left| 4 \\right\\rangle,\\left| 6 \\right\\rangle \\right) \\left| 13 \\right\\rangle$$"
   ]
  },
  {
   "cell_type": "code",
   "execution_count": 3,
   "metadata": {
    "scrolled": false
   },
   "outputs": [
    {
     "name": "stdout",
     "output_type": "stream",
     "text": [
      "{'000': 238, '010': 286, '100': 266, '110': 234}\n"
     ]
    },
    {
     "data": {
      "image/png": "[encoded data removed]",
      "text/plain": [
       "<Figure size 432x288 with 1 Axes>"
      ]
     },
     "metadata": {
      "needs_background": "light"
     },
     "output_type": "display_data"
    }
   ],
   "source": [
    "def iqft(qci, q, n):\n",
    "    for i in range(n):\n",
    "        for j in range(i):\n",
    "            qci.cu1(-math.pi/float(2**(i-j)), q[i], q[j])\n",
    "        qci.h(q[i])\n",
    "\n",
    "def swap(qci, s1, s2):\n",
    "    qci.cx(s1, s2)\n",
    "    qci.cx(s2, s1)\n",
    "    qci.cx(s1, s2)\n",
    "\n",
    "bx = 3\n",
    "by = 4\n",
    "cn = 3\n",
    "qx = QuantumRegister(bx, \"xq\")\n",
    "qy = QuantumRegister(by, \"yq\")\n",
    "c = ClassicalRegister(cn)\n",
    "qc = QuantumCircuit(qx, qy, c)\n",
    "\n",
    "for i in range(bx):\n",
    "    qc.h(qx[i])\n",
    "\n",
    "qc.x(qy[3])    \n",
    "qc.cx(qx[2], qy[1])\n",
    "qc.cx(qx[2], qy[2])\n",
    "qc.cx(qx[1], qy[1])\n",
    "qc.cx(qx[1], qy[3])\n",
    "qc.ccx(qx[1], qx[2], qy[0])\n",
    "qc.ccx(qx[1], qx[2], qy[1])\n",
    "qc.ccx(qx[1], qx[2], qy[2])\n",
    "qc.ccx(qx[1], qx[2], qy[3])\n",
    "qc.barrier(qx)\n",
    "iqft(qc, qx, bx)\n",
    "swap(qc, qx[0], qx[2])\n",
    "\n",
    "qc.measure(qx, c)\n",
    "    \n",
    "r = execute(qc)\n",
    "print(r)\n",
    "plot_histogram(r)"
   ]
  },
  {
   "cell_type": "markdown",
   "metadata": {},
   "source": [
    "By observing the quantum bit $\\left| x \\right\\rangle$, 0, 2, 4, and 6 were obtained as observed values $s$. For $k \\in \\{ 0,1,2,3,4,5,6,7\\}$, the cycle $T$ of the function can be estimated as 2 and 4 as the period $T$ as the estimate of 3 bits of $k/T$ as follows."
   ]
  },
  {
   "cell_type": "markdown",
   "metadata": {},
   "source": [
    "$$s=2^3 \\left( \\frac{k}{T} \\right) \\rightarrow \\frac{s}{8}=\\frac{k}{T} = \\left(\n",
    "\\begin{array}{r}\n",
    "\\frac{0}{8}=0 \\rightarrow T=(\\times) \\\\\n",
    "\\frac{2}{8}=\\frac{1}{4} \\rightarrow T=4(\\circ) \\\\\n",
    "\\frac{4}{8}=\\frac{1}{2} \\rightarrow T=2(\\times) \\\\\n",
    "\\frac{6}{8}=\\frac{3}{4} \\rightarrow T=4(\\circ)\n",
    "\\end{array}\n",
    "\\right.$$"
   ]
  },
  {
   "cell_type": "markdown",
   "metadata": {},
   "source": [
    "From this result, it can be found that the period $T$ is 4 with a probability of 50%.   \n",
    "Since $T=r=4$ is an even number, Factors 3 and 5 of $N=15$ can be obtained by finding the greatest common divisor (gcd) by Euclid's algorithm."
   ]
  },
  {
   "cell_type": "markdown",
   "metadata": {},
   "source": [
    "$$a^{r/2}\\pm 1 = 7^{4/2} \\pm 1 =\\{48, 50\\} \\rightarrow \\mathrm{gcd}(48, 15)=3,\\ \\ \\mathrm{gcd}(50, 15)=5$$"
   ]
  },
  {
   "cell_type": "code",
   "execution_count": null,
   "metadata": {
    "collapsed": true
   },
   "outputs": [],
   "source": []
  }
 ],
 "metadata": {
  "kernelspec": {
   "display_name": "Python 3",
   "language": "python",
   "name": "python3"
  },
  "language_info": {
   "codemirror_mode": {
    "name": "ipython",
    "version": 3
   },
   "file_extension": ".py",
   "mimetype": "text/x-python",
   "name": "python",
   "nbconvert_exporter": "python",
   "pygments_lexer": "ipython3",
   "version": "3.6.8"
  }
 },
 "nbformat": 4,
 "nbformat_minor": 1
}
