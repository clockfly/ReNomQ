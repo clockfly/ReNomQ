{
 "cells": [
  {
   "cell_type": "markdown",
   "metadata": {},
   "source": [
    "# 13: Quantum Error Correction"
   ]
  },
  {
   "cell_type": "code",
   "execution_count": 1,
   "metadata": {},
   "outputs": [],
   "source": [
    "from renom_q import *"
   ]
  },
  {
   "cell_type": "markdown",
   "metadata": {},
   "source": [
    "Quantum error correction is a function that automatically corrects quantum errors in general, including phase inversion error and phase bit inversion error, in addition to bit inversion error."
   ]
  },
  {
   "cell_type": "markdown",
   "metadata": {},
   "source": [
    "## 13-1: Quantum error correction of bit inversion error"
   ]
  },
  {
   "cell_type": "markdown",
   "metadata": {},
   "source": [
    "The bit inversion error can be thought of as an error like a bit change when bit inversion operator X is performed.  \n",
    "Error correction is performed by performing some calculations by iteratively decoding one qubit to be error-corrected, and then decrypting.  \n",
    "By using the toffoli gate after decryption, even if noise or bug occurs in the course of some computation it can be correctly decoded.  \n",
    "Even when noise enters the first or second auxiliary bit from the lower order in the process of some calculation, decryption can be performed firmly by using the toffoli gate.  \n",
    "In quantum error correction only the upper bits are of interest, so the lower bits of the output are not used here."
   ]
  },
  {
   "cell_type": "markdown",
   "metadata": {},
   "source": [
    "$$\\left| 100 \\right\\rangle \\xrightarrow{encode} \\left| 111 \\right\\rangle \\xrightarrow{X} \\left| 110 \\right\\rangle \\xrightarrow{decode} \\left| 101 \\right\\rangle　\\xrightarrow{ccX} \\left| 101 \\right\\rangle$$"
   ]
  },
  {
   "cell_type": "code",
   "execution_count": 2,
   "metadata": {},
   "outputs": [
    {
     "name": "stdout",
     "output_type": "stream",
     "text": [
      "{'1': 1024}\n"
     ]
    },
    {
     "data": {
      "image/png": "[encoded data removed]",
      "text/plain": [
       "<Figure size 432x288 with 1 Axes>"
      ]
     },
     "metadata": {
      "needs_background": "light"
     },
     "output_type": "display_data"
    }
   ],
   "source": [
    "bn = 3\n",
    "cn = 1\n",
    "q = QuantumRegister(bn)\n",
    "c = ClassicalRegister(cn)\n",
    "qc = QuantumCircuit(q, c)\n",
    "\n",
    "qc.x(q[0])\n",
    "\n",
    "qc.cx(q[0], q[1])\n",
    "qc.cx(q[0], q[2])\n",
    "\n",
    "qc.x(q[2])\n",
    "\n",
    "qc.cx(q[0], q[2])\n",
    "qc.cx(q[0], q[1])\n",
    "qc.ccx(q[2], q[1], q[0])\n",
    "\n",
    "qc.measure(q[0], c[0])\n",
    "\n",
    "r = execute(qc)\n",
    "print(r)\n",
    "plot_histogram(r)"
   ]
  },
  {
   "cell_type": "markdown",
   "metadata": {},
   "source": [
    "## 13-2: Quantum error correction of phase inversion error"
   ]
  },
  {
   "cell_type": "markdown",
   "metadata": {},
   "source": [
    "The phase inversion error can be thought of as an error such as a phase change when performing the phase inversion operator Z.  \n",
    "Z becomes a bit inversion error X if it is sandwiched by Hadamard transformation from HZH = X.  \n",
    "Therefore, the quantum error correction gate of the phase inversion error Z can be replaced by the quantum error correction gate of the bit inversion error X by sandwiching the phase inversion error Z with the Hadamard transformation H."
   ]
  },
  {
   "cell_type": "markdown",
   "metadata": {},
   "source": [
    "$$\\left| 100 \\right\\rangle \\xrightarrow{encode} \\left| 111 \\right\\rangle \\xrightarrow{H \\otimes H \\otimes H} \\left| --- \\right\\rangle  \\xrightarrow{Z} \\left| -+- \\right\\rangle  \\xrightarrow{H \\otimes H \\otimes H} \\left| 101 \\right\\rangle \\xrightarrow{decode} \\left| 110 \\right\\rangle　\\xrightarrow{ccX} \\left| 110 \\right\\rangle$$"
   ]
  },
  {
   "cell_type": "code",
   "execution_count": 3,
   "metadata": {},
   "outputs": [
    {
     "name": "stdout",
     "output_type": "stream",
     "text": [
      "{'1': 1024}\n"
     ]
    },
    {
     "data": {
      "image/png": "[encoded data removed]",
      "text/plain": [
       "<Figure size 432x288 with 1 Axes>"
      ]
     },
     "metadata": {
      "needs_background": "light"
     },
     "output_type": "display_data"
    }
   ],
   "source": [
    "bn = 3\n",
    "cn = 1\n",
    "q = QuantumRegister(bn)\n",
    "c = ClassicalRegister(cn)\n",
    "qc = QuantumCircuit(q, c)\n",
    "\n",
    "qc.x(q[0])\n",
    "qc.cx(q[0], q[1])\n",
    "qc.cx(q[0], q[2])\n",
    "for i in range(bn):\n",
    "    qc.h(q[i])\n",
    "\n",
    "qc.z(q[1])\n",
    "\n",
    "for i in range(bn):\n",
    "    qc.h(q[i])\n",
    "qc.cx(q[0], q[2])\n",
    "qc.cx(q[0], q[1])\n",
    "qc.ccx(q[2], q[1], q[0])\n",
    "\n",
    "qc.measure(q[0], c[0])\n",
    "\n",
    "r = execute(qc)\n",
    "print(r)\n",
    "plot_histogram(r)"
   ]
  },
  {
   "cell_type": "code",
   "execution_count": null,
   "metadata": {},
   "outputs": [],
   "source": []
  }
 ],
 "metadata": {
  "kernelspec": {
   "display_name": "Python 3",
   "language": "python",
   "name": "python3"
  },
  "language_info": {
   "codemirror_mode": {
    "name": "ipython",
    "version": 3
   },
   "file_extension": ".py",
   "mimetype": "text/x-python",
   "name": "python",
   "nbconvert_exporter": "python",
   "pygments_lexer": "ipython3",
   "version": "3.6.8"
  }
 },
 "nbformat": 4,
 "nbformat_minor": 2
}
