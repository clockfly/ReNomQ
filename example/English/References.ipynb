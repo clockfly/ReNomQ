{
 "cells": [
  {
   "cell_type": "markdown",
   "metadata": {},
   "source": [
    "# References"
   ]
  },
  {
   "cell_type": "markdown",
   "metadata": {},
   "source": [
    "- 中山茂 (2018) 「Python クラウド量子計算 QISKITバイブル」 NextPublishing Authors Press"
   ]
  },
  {
   "cell_type": "markdown",
   "metadata": {},
   "source": [
    "- David Deutsch and Richard Jozsa, ”Rapid solution of problems by quantum computation,” Proceedings of the Royal Society of London A, 439, 553, 1992. \n",
    "https://royalsocietypublishing.org/doi/abs/10.1098/rspa.1992.0167"
   ]
  },
  {
   "cell_type": "markdown",
   "metadata": {},
   "source": [
    "- Lov K. Grover, ”A fast quantum mechanical algorithm for database search,” Proceedings, 28th Annual ACM Symposium on the Theory of Computing (STOC), pp.212- 219, 1996. https://arxiv.org/abs/quant-ph/9605043"
   ]
  },
  {
   "cell_type": "markdown",
   "metadata": {},
   "source": [
    "- Peter W. Shor, ”Polynomial-time algorithms for prime factorization and discrete logarithms on a quantum computer,” SIAM journal on computing 26.5, 1484-1509, 1997. https://arxiv.org/abs/quant-ph/9508027"
   ]
  },
  {
   "cell_type": "markdown",
   "metadata": {},
   "source": [
    "- Fabrizio Buscemi, ”Shor’s quantum algorithm using electrons in semiconductor nanostructures,” Phys. Rev. A 83, 012302, 2011. https://arxiv.org/abs/1011.2628"
   ]
  },
  {
   "cell_type": "markdown",
   "metadata": {},
   "source": [
    "- Andrew T. Sornborger, ”Quantum Simulation of Tunneling in Small Systems,” Scientific Reports, 2, 597, 2012.\n",
    "https://arxiv.org/abs/1202.1536"
   ]
  },
  {
   "cell_type": "code",
   "execution_count": null,
   "metadata": {},
   "outputs": [],
   "source": []
  }
 ],
 "metadata": {
  "kernelspec": {
   "display_name": "Python 3",
   "language": "python",
   "name": "python3"
  },
  "language_info": {
   "codemirror_mode": {
    "name": "ipython",
    "version": 3
   },
   "file_extension": ".py",
   "mimetype": "text/x-python",
   "name": "python",
   "nbconvert_exporter": "python",
   "pygments_lexer": "ipython3",
   "version": "3.6.8"
  }
 },
 "nbformat": 4,
 "nbformat_minor": 2
}
