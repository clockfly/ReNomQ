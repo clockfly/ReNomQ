{
 "cells": [
  {
   "cell_type": "markdown",
   "metadata": {},
   "source": [
    "# 10: 量子フーリエ変換"
   ]
  },
  {
   "cell_type": "code",
   "execution_count": 1,
   "metadata": {},
   "outputs": [],
   "source": [
    "from renom_q import *\n",
    "import math"
   ]
  },
  {
   "cell_type": "markdown",
   "metadata": {},
   "source": [
    "## 10-1: 量子フーリエ変換 $QFT_4$"
   ]
  },
  {
   "cell_type": "markdown",
   "metadata": {},
   "source": [
    "一般的な$n$量子ビットの場合の$N=2^n$となる量子フーリエ変換$QFT_N$"
   ]
  },
  {
   "cell_type": "markdown",
   "metadata": {},
   "source": [
    "$$\\left| x \\right\\rangle \\xrightarrow{QFT_N} \\frac{1}{\\sqrt{N}} \\sum^{N-1}_{y=0} \\omega^{x \\cdot y} \\left| y \\right\\rangle $$"
   ]
  },
  {
   "cell_type": "markdown",
   "metadata": {},
   "source": [
    "$\\omega = \\exp{(2\\pi i / N)}$は回転の位相を表す。"
   ]
  },
  {
   "cell_type": "markdown",
   "metadata": {},
   "source": [
    "10進数を$j$とすると、\n",
    "$$\\left| j \\right\\rangle \\xrightarrow{QFT_N} \\frac{1}{\\sqrt{N}} \\left( \\left| 0 \\right\\rangle + e^{2\\pi i 0.j_n} \\left| 1 \\right\\rangle \\right) \\otimes \\left( \\left| 0 \\right\\rangle + e^{2\\pi i 0.j_{n-1} j_n} \\left| 1 \\right\\rangle \\right) \\otimes \\dots \\otimes \\left( \\left| 0 \\right\\rangle + e^{2\\pi i 0.j_1 j_2 \\dots j_{n-1} j_n} \\left| 1 \\right\\rangle \\right)$$\n",
    "と表せる。"
   ]
  },
  {
   "cell_type": "markdown",
   "metadata": {},
   "source": [
    "$N=4$の量子フーリエ変換は、\n",
    "$$\\left| x_1 x_2 \\right\\rangle \\xrightarrow{QFT_4} \\frac{1}{\\sqrt{4}} \\left( \\left| 0 \\right\\rangle + e^{2\\pi i 0.x_2} \\left| 1 \\right\\rangle \\right) \\left( \\left| 0 \\right\\rangle + e^{2\\pi i 0.x_1 x_2} \\left| 1 \\right\\rangle \\right)$$"
   ]
  },
  {
   "cell_type": "markdown",
   "metadata": {},
   "source": [
    "たとえば$\\left| 10 \\right\\rangle$の量子フーリエ変換は、\n",
    "$$\\left| 10 \\right\\rangle \\xrightarrow{QFT_4} \\frac{1}{\\sqrt{4}} \\left( \\left| 0 \\right\\rangle + e^{2\\pi i 0.0} \\left| 1 \\right\\rangle \\right) \\left( \\left| 0 \\right\\rangle + e^{2\\pi i 0.10} \\left| 1 \\right\\rangle \\right) = \\frac{1}{2}\\left( \\left| 0 \\right\\rangle + \\left| 1 \\right\\rangle \\right) \\left( \\left| 0 \\right\\rangle - \\left| 1 \\right\\rangle \\right) = \\frac{1}{2}\\left( \\left| 00 \\right\\rangle - \\left| 01 \\right\\rangle + \\left| 10 \\right\\rangle - \\left| 11 \\right\\rangle \\right) = \\frac{1}{2}\\left( \\left| 0 \\right\\rangle - \\left| 1 \\right\\rangle + \\left| 2 \\right\\rangle - \\left| 3 \\right\\rangle \\right)$$"
   ]
  },
  {
   "cell_type": "code",
   "execution_count": 2,
   "metadata": {
    "scrolled": false
   },
   "outputs": [
    {
     "name": "stdout",
     "output_type": "stream",
     "text": [
      "{'00': 245, '01': 246, '10': 268, '11': 265}\n"
     ]
    },
    {
     "data": {
      "image/png": "[encoded data removed]",
      "text/plain": [
       "<Figure size 432x288 with 1 Axes>"
      ]
     },
     "metadata": {
      "needs_background": "light"
     },
     "output_type": "display_data"
    }
   ],
   "source": [
    "bn = 2\n",
    "q = QuantumRegister(bn)\n",
    "c = ClassicalRegister(bn)\n",
    "qc = QuantumCircuit(q, c)\n",
    "\n",
    "qc.x(q[0])\n",
    "qc.h(q[0])\n",
    "qc.cu1(math.pi/2, q[0], q[1])\n",
    "qc.h(q[1])\n",
    "\n",
    "qc.measure()\n",
    "\n",
    "r = execute(qc)\n",
    "print(r)\n",
    "plot_histogram(r)"
   ]
  },
  {
   "cell_type": "markdown",
   "metadata": {},
   "source": [
    "量子フーリエ変換後は上位ビットと下位ビットが逆転しているので、swapゲートで上下を入れ替える必要がある。"
   ]
  },
  {
   "cell_type": "code",
   "execution_count": 3,
   "metadata": {},
   "outputs": [
    {
     "name": "stdout",
     "output_type": "stream",
     "text": [
      "{'00': 257, '01': 253, '10': 268, '11': 246}\n"
     ]
    },
    {
     "data": {
      "image/png": "[encoded data removed]",
      "text/plain": [
       "<Figure size 432x288 with 1 Axes>"
      ]
     },
     "metadata": {
      "needs_background": "light"
     },
     "output_type": "display_data"
    }
   ],
   "source": [
    "def swap(qci, s1, s2):\n",
    "    qci.cx(q[s1], q[s2])\n",
    "    qci.cx(q[s2], q[s1])\n",
    "    qci.cx(q[s1], q[s2])\n",
    "\n",
    "bn = 2\n",
    "q = QuantumRegister(bn)\n",
    "c = ClassicalRegister(bn)\n",
    "qc = QuantumCircuit(q, c)\n",
    "\n",
    "qc.x(q[0])\n",
    "qc.h(q[0])\n",
    "qc.cu1(math.pi/2, q[0], q[1])\n",
    "qc.h(q[1])\n",
    "swap(qc, 0, 1)\n",
    "qc.measure()\n",
    "\n",
    "r = execute(qc)\n",
    "print(r)\n",
    "plot_histogram(r)"
   ]
  },
  {
   "cell_type": "markdown",
   "metadata": {},
   "source": [
    "## 10-2: 量子フーリエ変換 $QFT_{N}$"
   ]
  },
  {
   "cell_type": "markdown",
   "metadata": {},
   "source": [
    "量子フーリエ変換の量子ゲートは、制御位相回転ゲート$cR_n$を用いる。\n",
    "$$cR_n=cU_1\\left(\\frac{2\\pi}{2^n}\\right)= \\left(\n",
    "\\begin{array}{rrrr}\n",
    "1 & 0 & 0 & 0 \\\\\n",
    "0 & 1 & 0 & 0 \\\\\n",
    "0 & 0 & 1 & 0 \\\\\n",
    "0 & 0 & 0 & e^{i(2\\pi/2^n)}\n",
    "\\end{array}\n",
    "\\right)$$"
   ]
  },
  {
   "cell_type": "markdown",
   "metadata": {},
   "source": [
    "$N=16$の量子フーリエ変換は、\n",
    "$$\\left| x_1 x_2 x_3 x_4 \\right\\rangle \\xrightarrow{QFT_{16}} \\frac{1}{\\sqrt{16}} \\left( \\left| 0 \\right\\rangle + e^{2\\pi i 0.x_4} \\left| 1 \\right\\rangle \\right) \\left( \\left| 0 \\right\\rangle + e^{2\\pi i 0.x_3 x_4} \\left| 1 \\right\\rangle \\right) \\left( \\left| 0 \\right\\rangle + e^{2\\pi i 0.x_2 x_3 x_4} \\left| 1 \\right\\rangle \\right) \\left( \\left| 0 \\right\\rangle + e^{2\\pi i 0.x_1 x_2 x_3 x_4} \\left| 1 \\right\\rangle \\right)$$となる。"
   ]
  },
  {
   "cell_type": "markdown",
   "metadata": {},
   "source": [
    "制御位相回転ゲート$cR_4$は、\n",
    "$$cR_4=cU_1\\left(\\frac{2\\pi}{2^4}\\right)= \\left(\n",
    "\\begin{array}{rrrr}\n",
    "1 & 0 & 0 & 0 \\\\\n",
    "0 & 1 & 0 & 0 \\\\\n",
    "0 & 0 & 1 & 0 \\\\\n",
    "0 & 0 & 0 & e^{i(\\pi/8)}\n",
    "\\end{array}\n",
    "\\right)$$\n",
    "となる。"
   ]
  },
  {
   "cell_type": "code",
   "execution_count": 4,
   "metadata": {},
   "outputs": [
    {
     "name": "stdout",
     "output_type": "stream",
     "text": [
      "{'0000': 1024}\n"
     ]
    },
    {
     "data": {
      "image/png": "[encoded data removed]",
      "text/plain": [
       "<Figure size 432x288 with 1 Axes>"
      ]
     },
     "metadata": {
      "needs_background": "light"
     },
     "output_type": "display_data"
    }
   ],
   "source": [
    "def qft(qci, q, n):\n",
    "    for i in range(n):\n",
    "        for j in range(i):\n",
    "            qci.cu1(math.pi/float(2**(i-j)), q[j], q[i])\n",
    "        qci.h(q[i])\n",
    "\n",
    "bn = 4\n",
    "q = QuantumRegister(bn)\n",
    "c = ClassicalRegister(bn)\n",
    "qc = QuantumCircuit(q, c)\n",
    "\n",
    "for i in range(bn):\n",
    "    qc.h(q[i])\n",
    "\n",
    "qft(qc, q, bn)\n",
    "qc.measure()\n",
    "\n",
    "r = execute(qc)\n",
    "print(r)\n",
    "plot_histogram(r)"
   ]
  },
  {
   "cell_type": "markdown",
   "metadata": {},
   "source": [
    "## 10-3: 逆量子フーリエ変換 $QFT^{-1}_{N}$"
   ]
  },
  {
   "cell_type": "markdown",
   "metadata": {},
   "source": [
    "一般的な$n$量子ビットの場合の$N=2^n$となる逆量子フーリエ変換$QFT^{-1}_N$"
   ]
  },
  {
   "cell_type": "markdown",
   "metadata": {},
   "source": [
    "$$\\left| x \\right\\rangle \\xrightarrow{QFT_{N^{-1}}} \\frac{1}{\\sqrt{N}} \\sum^{N-1}_{y=0} \\omega^{-x \\cdot y} \\left| y \\right\\rangle $$"
   ]
  },
  {
   "cell_type": "markdown",
   "metadata": {},
   "source": [
    "制御位相回転ゲートのエルミート共役$cR^{\\dagger}_n$を用いる。\n",
    "$$cR^{\\dagger}_n=cU_1\\left(-\\frac{2\\pi}{2^n}\\right)= \\left(\n",
    "\\begin{array}{rrrr}\n",
    "1 & 0 & 0 & 0 \\\\\n",
    "0 & 1 & 0 & 0 \\\\\n",
    "0 & 0 & 1 & 0 \\\\\n",
    "0 & 0 & 0 & e^{-i(2\\pi/2^n)}\n",
    "\\end{array}\n",
    "\\right)$$"
   ]
  },
  {
   "cell_type": "markdown",
   "metadata": {},
   "source": [
    "$N=16$の逆量子フーリエ変換は、\n",
    "$$\\left| 0000 \\right\\rangle \\xrightarrow{H \\otimes H \\otimes H \\otimes H} \n",
    "= \\frac{\\left| 0 \\right\\rangle + e^{2\\pi i0.0}\\left| 1 \\right\\rangle}{\\sqrt{2}} \\frac{\\left| 0 \\right\\rangle + e^{2\\pi i0.00}\\left| 1 \\right\\rangle}{\\sqrt{2}} \\frac{\\left| 0 \\right\\rangle + e^{2\\pi i0.000}\\left| 1 \\right\\rangle}{\\sqrt{2}} \\frac{\\left| 0 \\right\\rangle + e^{2\\pi i0.0000}\\left| 1 \\right\\rangle}{\\sqrt{2}} \\xrightarrow{QFT^{-1}_{16}} \\left| 0000 \\right\\rangle$$\n",
    "となる。"
   ]
  },
  {
   "cell_type": "code",
   "execution_count": 5,
   "metadata": {
    "scrolled": false
   },
   "outputs": [
    {
     "name": "stdout",
     "output_type": "stream",
     "text": [
      "{'0000': 1024}\n"
     ]
    },
    {
     "data": {
      "image/png": "[encoded data removed]",
      "text/plain": [
       "<Figure size 432x288 with 1 Axes>"
      ]
     },
     "metadata": {
      "needs_background": "light"
     },
     "output_type": "display_data"
    }
   ],
   "source": [
    "def iqft(qci, q, n):\n",
    "    for i in range(n):\n",
    "        for j in range(i):\n",
    "            qci.cu1(-math.pi/float(2**(i-j)), q[j], q[i])\n",
    "        qci.h(q[i])\n",
    "        \n",
    "bn = 4\n",
    "q = QuantumRegister(bn)\n",
    "c = ClassicalRegister(bn)\n",
    "qc = QuantumCircuit(q, c)\n",
    "\n",
    "for i in range(bn):\n",
    "    qc.h(q[i])\n",
    "\n",
    "iqft(qc, q, bn)\n",
    "qc.measure()\n",
    "\n",
    "r = execute(qc)\n",
    "print(r)\n",
    "plot_histogram(r)"
   ]
  },
  {
   "cell_type": "code",
   "execution_count": null,
   "metadata": {},
   "outputs": [],
   "source": []
  }
 ],
 "metadata": {
  "kernelspec": {
   "display_name": "Python 3",
   "language": "python",
   "name": "python3"
  },
  "language_info": {
   "codemirror_mode": {
    "name": "ipython",
    "version": 3
   },
   "file_extension": ".py",
   "mimetype": "text/x-python",
   "name": "python",
   "nbconvert_exporter": "python",
   "pygments_lexer": "ipython3",
   "version": "3.6.8"
  }
 },
 "nbformat": 4,
 "nbformat_minor": 1
}
