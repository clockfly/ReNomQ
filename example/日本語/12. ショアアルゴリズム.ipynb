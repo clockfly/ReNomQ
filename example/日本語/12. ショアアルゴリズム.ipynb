{
 "cells": [
  {
   "cell_type": "markdown",
   "metadata": {},
   "source": [
    "# 12: ショアアルゴリズム"
   ]
  },
  {
   "cell_type": "code",
   "execution_count": 1,
   "metadata": {},
   "outputs": [],
   "source": [
    "from renom_q import *\n",
    "import math"
   ]
  },
  {
   "cell_type": "markdown",
   "metadata": {},
   "source": [
    "## 12-1: 古典的因数分解アルゴリズム"
   ]
  },
  {
   "cell_type": "markdown",
   "metadata": {},
   "source": [
    "古典的因数分解の方法 (N=15)"
   ]
  },
  {
   "cell_type": "markdown",
   "metadata": {},
   "source": [
    "$N$よりも小さな互いに素な整数$a\\in [2, N-1]=\\{2, 4, 7, 8, 11, 13, 14\\}$をランダムに選ぶ。"
   ]
  },
  {
   "cell_type": "markdown",
   "metadata": {},
   "source": [
    "$a=7$とする。関数$f(x)=a^x\\ \\mathrm{mod}\\ N\\ (x=0, 1, 2, \\dots)$を考えて、$f(x)=f(x+r)$を満たす最小の周期$r$を求める。"
   ]
  },
  {
   "cell_type": "markdown",
   "metadata": {},
   "source": [
    "$$f(x)=f(x+r) \\rightarrow a^x\\ \\mathrm{mod}\\ N = a^{x+r}\\ \\mathrm{mod}\\ N \\rightarrow a^r\\ \\mathrm{mod}\\ N =1$$"
   ]
  },
  {
   "cell_type": "markdown",
   "metadata": {},
   "source": [
    "この周期$r$が偶数であれば、ユークリッドの互除法を用いて因数が見つかる。$r$が奇数であれば、再度整数$a$を選びなおす。"
   ]
  },
  {
   "cell_type": "markdown",
   "metadata": {},
   "source": [
    "$$a^r\\ \\mathrm{mod}\\ N =1 \\rightarrow (a^{r/2}-1)(a^{r/2}+1)\\ \\mathrm{mod}\\ N =0 \\rightarrow 最大公約数\\mathrm{gcd}(a^{r/2}\\pm 1, N)を求める$$"
   ]
  },
  {
   "cell_type": "markdown",
   "metadata": {},
   "source": [
    "$N=15、a=7$の時は次のように計算できる。"
   ]
  },
  {
   "cell_type": "markdown",
   "metadata": {},
   "source": [
    "$$f(0)=1,\\ \\ f(1)=7,\\ \\ f(2)=4,\\ \\ f(3)=13,\\ \\ f(4)=1,\\dots$$"
   ]
  },
  {
   "cell_type": "markdown",
   "metadata": {},
   "source": [
    "周期$r=4$は偶数なので、"
   ]
  },
  {
   "cell_type": "markdown",
   "metadata": {},
   "source": [
    "$$a^{r/2}\\pm 1 = 7^{4/2} \\pm 1 =\\{48, 50\\} \\rightarrow \\mathrm{gcd}(48, 15)=3,\\ \\ \\mathrm{gcd}(50, 15)=5$$"
   ]
  },
  {
   "cell_type": "markdown",
   "metadata": {},
   "source": [
    "よって、$N=15$の因数3と5が求まる。"
   ]
  },
  {
   "cell_type": "markdown",
   "metadata": {},
   "source": [
    "## 12-2: 量子関数"
   ]
  },
  {
   "cell_type": "markdown",
   "metadata": {},
   "source": [
    "関数$f(x)=7^x\\ \\mathrm{mod}\\ 15$を量子関数にする。関数$f(x)=7^x\\ \\mathrm{mod}\\ 15$に変数$x$の数値($x=0, 1, 2,...$)を入れて計算したことを2進数で表すと、下表のようになる。"
   ]
  },
  {
   "cell_type": "markdown",
   "metadata": {},
   "source": [
    "|$x_0$|$x_1$|$x_2$|$y_0$|$y_1$|$y_2$|$y_3$|\n",
    "|:-:|:-:|:-:|:-:|:-:|:-:|:-:|\n",
    "|0|0|0|0|0|0|1|\n",
    "|0|0|1|0|1|1|1|\n",
    "|0|1|0|0|1|0|0|\n",
    "| 0 |1|1|1|1|0|1|\n",
    "|**1**|0|0|0|0|0|1|\n",
    "|**1**|0|1|0|1|1|1|\n",
    "|**1**|1|0|0|1|0|0|\n",
    "|**1**|1|1|1|1|0|1|"
   ]
  },
  {
   "cell_type": "markdown",
   "metadata": {},
   "source": [
    "この表を元に量子ゲートを構成していく。例えば、$x=x_0x_1x_2=000=0$では、$y=y_0y_1y_2y_3=0001=1$となるように$y_3$にビット反転演算Xを適用すれば良い。"
   ]
  },
  {
   "cell_type": "code",
   "execution_count": 2,
   "metadata": {},
   "outputs": [
    {
     "name": "stdout",
     "output_type": "stream",
     "text": [
      "{'0001': 237, '0100': 259, '0111': 267, '1101': 261}\n"
     ]
    },
    {
     "data": {
      "image/png": "[encoded data removed]",
      "text/plain": [
       "<Figure size 432x288 with 1 Axes>"
      ]
     },
     "metadata": {
      "needs_background": "light"
     },
     "output_type": "display_data"
    }
   ],
   "source": [
    "bx = 3\n",
    "by = 4\n",
    "cn = 4\n",
    "qx = QuantumRegister(bx, \"xq\")\n",
    "qy = QuantumRegister(by, \"yq\")\n",
    "c = ClassicalRegister(cn)\n",
    "qc = QuantumCircuit(qx, qy, c)\n",
    "\n",
    "\n",
    "for i in range(bx):\n",
    "    qc.h(qx[i])\n",
    "\n",
    "qc.x(qy[3])    \n",
    "qc.cx(qx[2], qy[1])\n",
    "qc.cx(qx[2], qy[2])\n",
    "qc.cx(qx[1], qy[1])\n",
    "qc.cx(qx[1], qy[3])\n",
    "qc.ccx(qx[1], qx[2], qy[0])\n",
    "qc.ccx(qx[1], qx[2], qy[1])\n",
    "qc.ccx(qx[1], qx[2], qy[2])\n",
    "qc.ccx(qx[1], qx[2], qy[3])\n",
    "\n",
    "qc.measure(qy, c)\n",
    "    \n",
    "r = execute(qc)\n",
    "print(r)\n",
    "plot_histogram(r)"
   ]
  },
  {
   "cell_type": "markdown",
   "metadata": {},
   "source": [
    "よって、次のように8通りの重ね合わせ状態の入力で、繰り返して関数値が現れるため、4通りの出力となる。"
   ]
  },
  {
   "cell_type": "markdown",
   "metadata": {},
   "source": [
    "$$\\left| f(0) \\right\\rangle + \\left| f(1) \\right\\rangle + \\left| f(2) \\right\\rangle + \\left| f(3) \\right\\rangle + \\left| f(4) \\right\\rangle + \\left| f(5) \\right\\rangle + \\left| f(6) \\right\\rangle + \\left| f(7) \\right\\rangle \\rightarrow \\left| 1 \\right\\rangle + \\left| 7 \\right\\rangle + \\left| 4 \\right\\rangle + \\left| 13 \\right\\rangle$$"
   ]
  },
  {
   "cell_type": "markdown",
   "metadata": {},
   "source": [
    "## 12-3: 量子オラクル"
   ]
  },
  {
   "cell_type": "markdown",
   "metadata": {},
   "source": [
    "量子オラクル\n",
    "$$\\left| x \\right\\rangle \\left| y \\right\\rangle \\xrightarrow{U_f} \\left| x \\right\\rangle \\left| y \\oplus f(x) \\right\\rangle$$"
   ]
  },
  {
   "cell_type": "markdown",
   "metadata": {},
   "source": [
    "$\\left| y \\right\\rangle$を$\\left| 0 \\right\\rangle$にすると、出力が$f(x)$のみになる。\n",
    "$$\\left| x \\right\\rangle \\left| 0 \\right\\rangle \\xrightarrow{U_f} \\left| x \\right\\rangle \\left| 0 \\oplus f(x) \\right\\rangle = \\left| x \\right\\rangle \\left| f(x) \\right\\rangle$$"
   ]
  },
  {
   "cell_type": "markdown",
   "metadata": {},
   "source": [
    "この式に重ね合わせ状態を適用すれば、関数$f(x)=7^x\\ \\mathrm{mod}\\ 15$に対して、シフト不変性が機能し、位相の違いはあるが、次のようになる。"
   ]
  },
  {
   "cell_type": "markdown",
   "metadata": {},
   "source": [
    "$$\\left| 0 \\right\\rangle \\left| 0 \\right\\rangle \\xrightarrow{H \\otimes I} \\xrightarrow{U_f} \\xrightarrow{QFT^{-1} \\otimes I} \\left( \\left| 0 \\right\\rangle + \\left| 2 \\right\\rangle + \\left| 4 \\right\\rangle + \\left| 6 \\right\\rangle \\right) \\left| f(x) \\right\\rangle$$"
   ]
  },
  {
   "cell_type": "markdown",
   "metadata": {},
   "source": [
    "つまり、どの関数値$\\left| 1 \\right\\rangle,\\ \\ \\left| 4 \\right\\rangle,\\ \\ \\left| 7 \\right\\rangle,\\ \\ \\left| 13 \\right\\rangle$が観測されても、$\\left| x \\right\\rangle$を逆量子フーリエ変換すれば、シフト不変性で位相の違いはあるが、すべて同じ量子状態$\\left| 0 \\right\\rangle,\\ \\ \\left| 2 \\right\\rangle,\\ \\ \\left| 4 \\right\\rangle,\\ \\ \\left| 6 \\right\\rangle$しか観測されないことになる。"
   ]
  },
  {
   "cell_type": "markdown",
   "metadata": {},
   "source": [
    "$$\\left| 0 \\right\\rangle \\left| 0 \\right\\rangle + \\left| 4 \\right\\rangle \\left| 0 \\right\\rangle \\rightarrow \\left| 0 \\right\\rangle \\left| f(0) \\right\\rangle + \\left| 4 \\right\\rangle \\left| f(4) \\right\\rangle = \\left| 0 \\right\\rangle \\left| 1 \\right\\rangle + \\left| 4 \\right\\rangle \\left| 1 \\right\\rangle = \\left( \\left| 0 \\right\\rangle + \\left| 4 \\right\\rangle \\right) \\left| 1 \\right\\rangle \\rightarrow \\left( \\left| 0 \\right\\rangle,\\left| 2 \\right\\rangle,\\left| 4 \\right\\rangle,\\left| 6 \\right\\rangle \\right) \\left| 1 \\right\\rangle$$\n",
    "\n",
    "$$\\left| 1 \\right\\rangle \\left| 0 \\right\\rangle + \\left| 5 \\right\\rangle \\left| 0 \\right\\rangle \\rightarrow \\left| 1 \\right\\rangle \\left| f(1) \\right\\rangle + \\left| 5 \\right\\rangle \\left| f(5) \\right\\rangle = \\left| 1 \\right\\rangle \\left| 7 \\right\\rangle + \\left| 5 \\right\\rangle \\left| 7 \\right\\rangle = \\left( \\left| 1 \\right\\rangle + \\left| 5 \\right\\rangle \\right) \\left| 7 \\right\\rangle \\rightarrow \\left( \\left| 0 \\right\\rangle,\\left| 2 \\right\\rangle,\\left| 4 \\right\\rangle,\\left| 6 \\right\\rangle \\right) \\left| 7 \\right\\rangle$$\n",
    "\n",
    "$$\\left| 2 \\right\\rangle \\left| 0 \\right\\rangle + \\left| 6 \\right\\rangle \\left| 0 \\right\\rangle \\rightarrow \\left| 2 \\right\\rangle \\left| f(2) \\right\\rangle + \\left| 6 \\right\\rangle \\left| f(6) \\right\\rangle = \\left| 2 \\right\\rangle \\left| 4 \\right\\rangle + \\left| 6 \\right\\rangle \\left| 4 \\right\\rangle = \\left( \\left| 2 \\right\\rangle + \\left| 6 \\right\\rangle \\right) \\left| 4 \\right\\rangle \\rightarrow \\left( \\left| 0 \\right\\rangle,\\left| 2 \\right\\rangle,\\left| 4 \\right\\rangle,\\left| 6 \\right\\rangle \\right) \\left| 4 \\right\\rangle$$\n",
    "\n",
    "$$\\left| 3 \\right\\rangle \\left| 0 \\right\\rangle + \\left| 7 \\right\\rangle \\left| 0 \\right\\rangle \\rightarrow \\left| 3 \\right\\rangle \\left| f(3) \\right\\rangle + \\left| 7 \\right\\rangle \\left| f(7) \\right\\rangle = \\left| 3 \\right\\rangle \\left| 13 \\right\\rangle + \\left| 7 \\right\\rangle \\left| 13 \\right\\rangle = \\left( \\left| 3 \\right\\rangle + \\left| 7 \\right\\rangle \\right) \\left| 13 \\right\\rangle \\rightarrow \\left( \\left| 0 \\right\\rangle,\\left| 2 \\right\\rangle,\\left| 4 \\right\\rangle,\\left| 6 \\right\\rangle \\right) \\left| 13 \\right\\rangle$$"
   ]
  },
  {
   "cell_type": "code",
   "execution_count": 3,
   "metadata": {
    "scrolled": false
   },
   "outputs": [
    {
     "name": "stdout",
     "output_type": "stream",
     "text": [
      "{'000': 283, '010': 243, '100': 254, '110': 244}\n"
     ]
    },
    {
     "data": {
      "image/png": "[encoded data removed]",
      "text/plain": [
       "<Figure size 432x288 with 1 Axes>"
      ]
     },
     "metadata": {
      "needs_background": "light"
     },
     "output_type": "display_data"
    }
   ],
   "source": [
    "def iqft(qci, q, n):\n",
    "    for i in range(n):\n",
    "        for j in range(i):\n",
    "            qci.cu1(-math.pi/float(2**(i-j)), q[i], q[j])\n",
    "        qci.h(q[i])\n",
    "\n",
    "def swap(qci, s1, s2):\n",
    "    qci.cx(s1, s2)\n",
    "    qci.cx(s2, s1)\n",
    "    qci.cx(s1, s2)\n",
    "\n",
    "bx = 3\n",
    "by = 4\n",
    "cn = 3\n",
    "qx = QuantumRegister(bx, \"xq\")\n",
    "qy = QuantumRegister(by, \"yq\")\n",
    "c = ClassicalRegister(cn)\n",
    "qc = QuantumCircuit(qx, qy, c)\n",
    "\n",
    "for i in range(bx):\n",
    "    qc.h(qx[i])\n",
    "\n",
    "qc.x(qy[3])    \n",
    "qc.cx(qx[2], qy[1])\n",
    "qc.cx(qx[2], qy[2])\n",
    "qc.cx(qx[1], qy[1])\n",
    "qc.cx(qx[1], qy[3])\n",
    "qc.ccx(qx[1], qx[2], qy[0])\n",
    "qc.ccx(qx[1], qx[2], qy[1])\n",
    "qc.ccx(qx[1], qx[2], qy[2])\n",
    "qc.ccx(qx[1], qx[2], qy[3])\n",
    "\n",
    "iqft(qc, qx, bx)\n",
    "swap(qc, qx[0], qx[2])\n",
    "\n",
    "qc.measure(qx, c)\n",
    "    \n",
    "r = execute(qc)\n",
    "print(r)\n",
    "plot_histogram(r)"
   ]
  },
  {
   "cell_type": "markdown",
   "metadata": {},
   "source": [
    "量子ビット$\\left| x \\right\\rangle$を観測して、観測値$s$として0, 2, 4, 6が得られたが、$k \\in \\{ 0,1,2,3,4,5,6,7\\}$に対して、関数の周期$T$は、$k/T$の3ビットの推定として、次のように周期$T$として2と4が得られる。"
   ]
  },
  {
   "cell_type": "markdown",
   "metadata": {},
   "source": [
    "$$s=2^3 \\left( \\frac{k}{T} \\right) \\rightarrow \\frac{s}{8}=\\frac{k}{T} = \\left(\n",
    "\\begin{array}{r}\n",
    "\\frac{0}{8}=0 \\rightarrow T=(\\times) \\\\\n",
    "\\frac{2}{8}=\\frac{1}{4} \\rightarrow T=4(\\circ) \\\\\n",
    "\\frac{4}{8}=\\frac{1}{2} \\rightarrow T=2(\\times) \\\\\n",
    "\\frac{6}{8}=\\frac{3}{4} \\rightarrow T=4(\\circ)\n",
    "\\end{array}\n",
    "\\right.$$"
   ]
  },
  {
   "cell_type": "markdown",
   "metadata": {},
   "source": [
    "上の結果から、確率50%で、周期$T$が4と発見できる。\n",
    "$T=r=4$は偶数なので、ユークリッドの互除法で最大公約数gcdを求めれば、$N=15$の因数3,5が求まる。"
   ]
  },
  {
   "cell_type": "markdown",
   "metadata": {},
   "source": [
    "$$a^{r/2}\\pm 1 = 7^{4/2} \\pm 1 =\\{48, 50\\} \\rightarrow \\mathrm{gcd}(48, 15)=3,\\ \\ \\mathrm{gcd}(50, 15)=5$$"
   ]
  },
  {
   "cell_type": "code",
   "execution_count": null,
   "metadata": {
    "collapsed": true
   },
   "outputs": [],
   "source": []
  }
 ],
 "metadata": {
  "kernelspec": {
   "display_name": "Python 3",
   "language": "python",
   "name": "python3"
  },
  "language_info": {
   "codemirror_mode": {
    "name": "ipython",
    "version": 3
   },
   "file_extension": ".py",
   "mimetype": "text/x-python",
   "name": "python",
   "nbconvert_exporter": "python",
   "pygments_lexer": "ipython3",
   "version": "3.6.8"
  }
 },
 "nbformat": 4,
 "nbformat_minor": 1
}
