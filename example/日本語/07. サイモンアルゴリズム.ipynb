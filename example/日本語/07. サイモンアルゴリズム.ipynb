{
 "cells": [
  {
   "cell_type": "markdown",
   "metadata": {},
   "source": [
    "# 7: サイモンアルゴリズム"
   ]
  },
  {
   "cell_type": "code",
   "execution_count": 1,
   "metadata": {},
   "outputs": [],
   "source": [
    "from renom_q import *"
   ]
  },
  {
   "cell_type": "markdown",
   "metadata": {},
   "source": [
    "サイモン問題とは、$n$ビット変数$x$に対して$n$ビット関数$f(x)$があり、"
   ]
  },
  {
   "cell_type": "markdown",
   "metadata": {},
   "source": [
    "$$f(x) = f(x \\oplus s)$$"
   ]
  },
  {
   "cell_type": "markdown",
   "metadata": {},
   "source": [
    "を満たす秘密キー$s$があることが約束されており、関数$f(x)$へできるだけ少ない問い合わせ量で0位外の秘密キー$s$を見つけ出す問題である。\n",
    "$$x \\oplus s = (x_0 \\oplus s_0, x_1 \\oplus s_1, \\dots, x_{n-1} \\oplus s_{n-1})$$"
   ]
  },
  {
   "cell_type": "markdown",
   "metadata": {},
   "source": [
    "$$\\left| x_0 x_1 \\right\\rangle\\left| 00 \\right\\rangle \\xrightarrow{U_f} \\left| x_0 x_1 \\right\\rangle\\left| 00 \\oplus f(x_0 x_1) \\right\\rangle = \\left| x_0 x_1 \\right\\rangle\\left| f(x_0 x_1) \\right\\rangle$$"
   ]
  },
  {
   "cell_type": "markdown",
   "metadata": {},
   "source": [
    "$n=2$のとき、0以外の秘密キー$s$を持った関数表は次のようになる。関数値は任意である。"
   ]
  },
  {
   "cell_type": "markdown",
   "metadata": {},
   "source": [
    "- $s=01$の場合\n",
    "\n",
    "|入力 $x$|　関数 $f(x)$|\n",
    "|:-:|:-:|\n",
    "|00|1|\n",
    "|01|1|\n",
    "|10|0|\n",
    "|11|0|\n",
    "\n",
    "- $s=10$の場合\n",
    "\n",
    "|入力 $x$|　関数 $f(x)$|\n",
    "|:-:|:-:|\n",
    "|00|1|\n",
    "|01|2|\n",
    "|10|1|\n",
    "|11|2|\n",
    "\n",
    "- $s=11$の場合\n",
    "\n",
    "|入力 $x$|　関数 $f(x)$|\n",
    "|:-:|:-:|\n",
    "|00|1|\n",
    "|01|3|\n",
    "|10|3|\n",
    "|11|1|"
   ]
  },
  {
   "cell_type": "markdown",
   "metadata": {},
   "source": [
    "## 7-1: 秘密キー$s=3=11_{(2)}$の場合"
   ]
  },
  {
   "cell_type": "code",
   "execution_count": 2,
   "metadata": {},
   "outputs": [
    {
     "name": "stdout",
     "output_type": "stream",
     "text": [
      "{'00': 515, '11': 509}\n"
     ]
    },
    {
     "data": {
      "image/png": "[encoded data removed]",
      "text/plain": [
       "<Figure size 432x288 with 1 Axes>"
      ]
     },
     "metadata": {
      "needs_background": "light"
     },
     "output_type": "display_data"
    }
   ],
   "source": [
    "def s_oracle(qci, x0, x1, f_x0, f_x1):\n",
    "    qci.x(f_x1)\n",
    "    qci.cx(x0, f_x0)\n",
    "    qci.cx(x1, f_x0)\n",
    "    \n",
    "bn = 4\n",
    "cn = 2\n",
    "q = QuantumRegister(bn)\n",
    "c = ClassicalRegister(cn)\n",
    "qc = QuantumCircuit(q, c)\n",
    "\n",
    "for i in range(2):\n",
    "    qc.h(q[i])\n",
    "\n",
    "s_oracle(qc, q[0], q[1], q[2], q[3])\n",
    "\n",
    "for i in range(2):\n",
    "    qc.h(q[i])\n",
    "   \n",
    "for i in range(cn):\n",
    "    qc.measure(q[i], c[i])\n",
    "    \n",
    "r = execute(qc)\n",
    "print(r)\n",
    "plot_histogram(r)"
   ]
  },
  {
   "cell_type": "markdown",
   "metadata": {},
   "source": [
    "$\\left| y \\right\\rangle = \\left| 00 \\right\\rangle$と$\\left| y \\right\\rangle = \\left| 11 \\right\\rangle$が観測されたが、$\\left| 11 \\right\\rangle$のとき、次の式より秘密キー$s$が求められる。"
   ]
  },
  {
   "cell_type": "markdown",
   "metadata": {},
   "source": [
    "$$y \\cdot s = (y_0 s_0) \\oplus (y_1 s_1) = 0$$"
   ]
  },
  {
   "cell_type": "markdown",
   "metadata": {},
   "source": [
    "$$\\rightarrow s=11$$"
   ]
  },
  {
   "cell_type": "markdown",
   "metadata": {},
   "source": [
    "## 7-2: 秘密キー$s=1=01_{(2)}$の場合"
   ]
  },
  {
   "cell_type": "code",
   "execution_count": 3,
   "metadata": {},
   "outputs": [
    {
     "name": "stdout",
     "output_type": "stream",
     "text": [
      "{'00': 507, '10': 517}\n"
     ]
    },
    {
     "data": {
      "image/png": "[encoded data removed]",
      "text/plain": [
       "<Figure size 432x288 with 1 Axes>"
      ]
     },
     "metadata": {
      "needs_background": "light"
     },
     "output_type": "display_data"
    }
   ],
   "source": [
    "def s_oracle(qci, x0, x1, f_x0, f_x1):\n",
    "    qci.x(f_x1)\n",
    "    qci.cx(x0, f_x1)\n",
    "    \n",
    "bn = 4 \n",
    "cn = 2\n",
    "q = QuantumRegister(bn)\n",
    "c = ClassicalRegister(cn)\n",
    "qc = QuantumCircuit(q, c)\n",
    "\n",
    "for i in range(2):\n",
    "    qc.h(q[i])\n",
    "\n",
    "s_oracle(qc, q[0], q[1], q[2], q[3])\n",
    "\n",
    "for i in range(2):\n",
    "    qc.h(q[i])\n",
    "  \n",
    "for i in range(cn):\n",
    "    qc.measure(q[i], c[i])\n",
    "    \n",
    "r = execute(qc)\n",
    "print(r)\n",
    "plot_histogram(r)"
   ]
  },
  {
   "cell_type": "markdown",
   "metadata": {},
   "source": [
    "$\\left| y \\right\\rangle = \\left| 00 \\right\\rangle$と$\\left| y \\right\\rangle = \\left| 10 \\right\\rangle$が観測されたが、$\\left| 10 \\right\\rangle$のとき、次の式より秘密キー$s$が求められる。"
   ]
  },
  {
   "cell_type": "markdown",
   "metadata": {},
   "source": [
    "$$y \\cdot s = (y_0 s_0) \\oplus (y_1 s_1) = 0$$"
   ]
  },
  {
   "cell_type": "markdown",
   "metadata": {},
   "source": [
    "$$\\rightarrow s=01$$"
   ]
  },
  {
   "cell_type": "markdown",
   "metadata": {},
   "source": [
    "## 7-3: 秘密キー$s=2=10_{(2)}$の場合"
   ]
  },
  {
   "cell_type": "code",
   "execution_count": 4,
   "metadata": {},
   "outputs": [
    {
     "name": "stdout",
     "output_type": "stream",
     "text": [
      "{'00': 519, '01': 505}\n"
     ]
    },
    {
     "data": {
      "image/png": "[encoded data removed]",
      "text/plain": [
       "<Figure size 432x288 with 1 Axes>"
      ]
     },
     "metadata": {
      "needs_background": "light"
     },
     "output_type": "display_data"
    }
   ],
   "source": [
    "def s_oracle(qci, x0, x1, f_x0, f_x1):\n",
    "    qci.x(f_x1)\n",
    "    qci.cx(x1, f_x0)\n",
    "    \n",
    "bn = 4\n",
    "cn = 2\n",
    "q = QuantumRegister(bn)\n",
    "c = ClassicalRegister(cn)\n",
    "qc = QuantumCircuit(q, c)\n",
    "\n",
    "for i in range(2):\n",
    "    qc.h(q[i])\n",
    "\n",
    "s_oracle(qc, q[0], q[1], q[2], q[3])\n",
    "\n",
    "for i in range(2):\n",
    "    qc.h(q[i])\n",
    "\n",
    "for i in range(cn):\n",
    "    qc.measure(q[i], c[i])\n",
    "    \n",
    "r = execute(qc)\n",
    "print(r)\n",
    "plot_histogram(r)"
   ]
  },
  {
   "cell_type": "markdown",
   "metadata": {},
   "source": [
    "$\\left| y \\right\\rangle = \\left| 00 \\right\\rangle$と$\\left| y \\right\\rangle = \\left| 01 \\right\\rangle$が観測されたが、$\\left| 01 \\right\\rangle$のとき、次の式より秘密キー$s$が求められる。"
   ]
  },
  {
   "cell_type": "markdown",
   "metadata": {},
   "source": [
    "$$y \\cdot s = (y_0 s_0) \\oplus (y_1 s_1) = 0$$"
   ]
  },
  {
   "cell_type": "markdown",
   "metadata": {},
   "source": [
    "$$\\rightarrow s=10$$"
   ]
  },
  {
   "cell_type": "code",
   "execution_count": null,
   "metadata": {},
   "outputs": [],
   "source": []
  }
 ],
 "metadata": {
  "kernelspec": {
   "display_name": "Python 3",
   "language": "python",
   "name": "python3"
  },
  "language_info": {
   "codemirror_mode": {
    "name": "ipython",
    "version": 3
   },
   "file_extension": ".py",
   "mimetype": "text/x-python",
   "name": "python",
   "nbconvert_exporter": "python",
   "pygments_lexer": "ipython3",
   "version": "3.6.8"
  }
 },
 "nbformat": 4,
 "nbformat_minor": 2
}
