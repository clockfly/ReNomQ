{
 "cells": [
  {
   "cell_type": "markdown",
   "metadata": {},
   "source": [
    "# 9: グローバーアルゴリズム"
   ]
  },
  {
   "cell_type": "code",
   "execution_count": 1,
   "metadata": {},
   "outputs": [],
   "source": [
    "from renom_q import *"
   ]
  },
  {
   "cell_type": "markdown",
   "metadata": {},
   "source": [
    "グローバーのアルゴリズムは、整列化されていない$N$個のデータから1つのものを見つけ出す量子探索アルゴリズムである。"
   ]
  },
  {
   "cell_type": "markdown",
   "metadata": {},
   "source": [
    "## 9-1: グローバーアルゴリズムの探索手法"
   ]
  },
  {
   "cell_type": "markdown",
   "metadata": {},
   "source": [
    "### (1) 均等な確率振幅を持つ重ね合わせ状態"
   ]
  },
  {
   "cell_type": "markdown",
   "metadata": {},
   "source": [
    "$N=4$のとき\n",
    "$$\\left| \\phi \\right\\rangle=\\frac{1}{2}\\left( \\left| 0 \\right\\rangle + \\left| 1 \\right\\rangle + \\left| 2 \\right\\rangle + \\left| 3\\right\\rangle \\right) $$"
   ]
  },
  {
   "cell_type": "code",
   "execution_count": 2,
   "metadata": {},
   "outputs": [
    {
     "name": "stdout",
     "output_type": "stream",
     "text": [
      "{'00': 254, '01': 264, '10': 266, '11': 240}\n"
     ]
    },
    {
     "data": {
      "image/png": "[encoded data removed]",
      "text/plain": [
       "<Figure size 432x288 with 1 Axes>"
      ]
     },
     "metadata": {
      "needs_background": "light"
     },
     "output_type": "display_data"
    }
   ],
   "source": [
    "bn = 2\n",
    "q = QuantumRegister(bn)\n",
    "c = ClassicalRegister(bn)\n",
    "qc = QuantumCircuit(q, c)\n",
    "\n",
    "for i in range(bn):\n",
    "    qc.h(q[i])\n",
    "qc.measure()\n",
    "\n",
    "r = execute(qc)\n",
    "print(r)\n",
    "plot_histogram(r)"
   ]
  },
  {
   "cell_type": "markdown",
   "metadata": {},
   "source": [
    "### (2) 探索解の位相反転によるマーキング"
   ]
  },
  {
   "cell_type": "markdown",
   "metadata": {},
   "source": [
    "探索解を$\\left| 3 \\right\\rangle = \\left| 11 \\right\\rangle$とすると、\n",
    "$$\\left| \\phi \\right\\rangle=\\frac{1}{2}\\left( \\left| 0 \\right\\rangle + \\left| 1 \\right\\rangle + \\left| 2 \\right\\rangle - \\left| 3\\right\\rangle \\right) $$"
   ]
  },
  {
   "cell_type": "code",
   "execution_count": 3,
   "metadata": {},
   "outputs": [
    {
     "name": "stdout",
     "output_type": "stream",
     "text": [
      "{'00': 243, '01': 262, '10': 271, '11': 248}\n"
     ]
    },
    {
     "data": {
      "image/png": "[encoded data removed]",
      "text/plain": [
       "<Figure size 432x288 with 1 Axes>"
      ]
     },
     "metadata": {
      "needs_background": "light"
     },
     "output_type": "display_data"
    }
   ],
   "source": [
    "bn = 2\n",
    "q = QuantumRegister(bn)\n",
    "c = ClassicalRegister(bn)\n",
    "qc = QuantumCircuit(q, c)\n",
    "\n",
    "for i in range(bn):\n",
    "    qc.h(q[i])\n",
    "qc.cz(q[0], q[1])\n",
    "qc.measure()\n",
    "\n",
    "r = execute(qc)\n",
    "print(r)\n",
    "plot_histogram(r)"
   ]
  },
  {
   "cell_type": "markdown",
   "metadata": {},
   "source": [
    "### (3) 確率振幅の平均値の周りでの反転 (拡散変換)"
   ]
  },
  {
   "cell_type": "code",
   "execution_count": 4,
   "metadata": {},
   "outputs": [
    {
     "name": "stdout",
     "output_type": "stream",
     "text": [
      "[ 0.5+0.j  0.5+0.j  0.5+0.j -0.5+0.j]\n"
     ]
    }
   ],
   "source": [
    "bn = 2\n",
    "q = QuantumRegister(bn)\n",
    "c = ClassicalRegister(bn)\n",
    "qc = QuantumCircuit(q, c)\n",
    "\n",
    "for i in range(bn):\n",
    "    qc.h(q[i])\n",
    "qc.cz(q[0], q[1])\n",
    "\n",
    "print(statevector(qc))"
   ]
  },
  {
   "cell_type": "markdown",
   "metadata": {},
   "source": [
    "$$\\left\\langle av \\right\\rangle = \\frac{1}{4}\\left( \\frac{1}{2} + \\frac{1}{2} + \\frac{1}{2} - \\frac{1}{2} \\right) = \\frac{1}{4}$$\n",
    "\n",
    "$$\\left| \\phi \\right\\rangle = \\sum^3_{n=0}\\left[ \\left\\langle av \\right\\rangle + \\left( \\left\\langle av \\right\\rangle - \\alpha_n \\right) \\right] \\left| n \\right\\rangle = \\left| 3\\right\\rangle $$"
   ]
  },
  {
   "cell_type": "code",
   "execution_count": 5,
   "metadata": {},
   "outputs": [],
   "source": [
    "def deffusion4(qci, bn, a, b):\n",
    "    for i in range(bn):\n",
    "        qci.h(q[i])\n",
    "        qci.x(q[i])\n",
    "    qci.cz(q[a], q[b])\n",
    "    for i in range(bn):\n",
    "        qci.x(q[i])\n",
    "        qci.h(q[i])"
   ]
  },
  {
   "cell_type": "code",
   "execution_count": 6,
   "metadata": {},
   "outputs": [
    {
     "name": "stdout",
     "output_type": "stream",
     "text": [
      "{'11': 1024}\n"
     ]
    },
    {
     "data": {
      "image/png": "[encoded data removed]",
      "text/plain": [
       "<Figure size 432x288 with 1 Axes>"
      ]
     },
     "metadata": {
      "needs_background": "light"
     },
     "output_type": "display_data"
    }
   ],
   "source": [
    "bn = 2\n",
    "q = QuantumRegister(bn)\n",
    "c = ClassicalRegister(bn)\n",
    "qc = QuantumCircuit(q, c)\n",
    "\n",
    "for i in range(bn):\n",
    "    qc.h(q[i])\n",
    "qc.cz(q[0], q[1])\n",
    "\n",
    "deffusion4(qc, bn, 0, 1)\n",
    "\n",
    "qc.measure()\n",
    "\n",
    "r = execute(qc)\n",
    "print(r)\n",
    "plot_histogram(r)"
   ]
  },
  {
   "cell_type": "markdown",
   "metadata": {},
   "source": [
    "## 9-2: 他の探索解の場合"
   ]
  },
  {
   "cell_type": "code",
   "execution_count": 7,
   "metadata": {},
   "outputs": [],
   "source": [
    "def marking0(qci, a, b):\n",
    "    for i in range(2):\n",
    "        qci.s(q[i])\n",
    "    qci.cz(q[a], q[b])\n",
    "    for i in range(2):\n",
    "        qci.s(q[i])\n",
    "    \n",
    "def marking1(qci, a, b):\n",
    "    qci.s(q[b])\n",
    "    qci.cz(q[a], q[b])\n",
    "    qci.s(q[b])\n",
    "    \n",
    "def marking2(qci, a, b):\n",
    "    qci.s(q[a])\n",
    "    qci.cz(q[a], q[b])\n",
    "    qci.s(q[a])\n",
    "    \n",
    "def marking3(qci, a, b):\n",
    "    qci.cz(q[a], q[b])"
   ]
  },
  {
   "cell_type": "markdown",
   "metadata": {},
   "source": [
    "### (1) 探索解 $\\left | 0 \\right\\rangle$の場合"
   ]
  },
  {
   "cell_type": "code",
   "execution_count": 8,
   "metadata": {},
   "outputs": [
    {
     "name": "stdout",
     "output_type": "stream",
     "text": [
      "{'00': 1024}\n"
     ]
    },
    {
     "data": {
      "image/png": "[encoded data removed]",
      "text/plain": [
       "<Figure size 432x288 with 1 Axes>"
      ]
     },
     "metadata": {
      "needs_background": "light"
     },
     "output_type": "display_data"
    }
   ],
   "source": [
    "bn = 2\n",
    "q = QuantumRegister(bn)\n",
    "c = ClassicalRegister(bn)\n",
    "qc = QuantumCircuit(q, c)\n",
    "\n",
    "for i in range(bn):\n",
    "    qc.h(q[i])\n",
    "marking0(qc, 0, 1)\n",
    "\n",
    "deffusion4(qc, bn, 0, 1)\n",
    "\n",
    "qc.measure()\n",
    "\n",
    "r = execute(qc)\n",
    "print(r)\n",
    "plot_histogram(r)"
   ]
  },
  {
   "cell_type": "markdown",
   "metadata": {},
   "source": [
    "### (2) 探索解 $\\left | 1 \\right\\rangle$の場合"
   ]
  },
  {
   "cell_type": "code",
   "execution_count": 9,
   "metadata": {},
   "outputs": [
    {
     "name": "stdout",
     "output_type": "stream",
     "text": [
      "{'01': 1024}\n"
     ]
    },
    {
     "data": {
      "image/png": "[encoded data removed]",
      "text/plain": [
       "<Figure size 432x288 with 1 Axes>"
      ]
     },
     "metadata": {
      "needs_background": "light"
     },
     "output_type": "display_data"
    }
   ],
   "source": [
    "bn = 2\n",
    "q = QuantumRegister(bn)\n",
    "c = ClassicalRegister(bn)\n",
    "qc = QuantumCircuit(q, c)\n",
    "\n",
    "for i in range(bn):\n",
    "    qc.h(q[i])\n",
    "marking1(qc, 0, 1)\n",
    "\n",
    "deffusion4(qc, bn, 0, 1)\n",
    "\n",
    "qc.measure()\n",
    "\n",
    "r = execute(qc)\n",
    "print(r)\n",
    "plot_histogram(r)"
   ]
  },
  {
   "cell_type": "markdown",
   "metadata": {},
   "source": [
    "### (3) 探索解 $\\left | 2 \\right\\rangle$の場合"
   ]
  },
  {
   "cell_type": "code",
   "execution_count": 10,
   "metadata": {},
   "outputs": [
    {
     "name": "stdout",
     "output_type": "stream",
     "text": [
      "{'10': 1024}\n"
     ]
    },
    {
     "data": {
      "image/png": "[encoded data removed]",
      "text/plain": [
       "<Figure size 432x288 with 1 Axes>"
      ]
     },
     "metadata": {
      "needs_background": "light"
     },
     "output_type": "display_data"
    }
   ],
   "source": [
    "bn = 2\n",
    "q = QuantumRegister(bn)\n",
    "c = ClassicalRegister(bn)\n",
    "qc = QuantumCircuit(q, c)\n",
    "\n",
    "for i in range(bn):\n",
    "    qc.h(q[i])\n",
    "marking2(qc, 0, 1)\n",
    "\n",
    "deffusion4(qc, bn, 0, 1)\n",
    "\n",
    "qc.measure()\n",
    "\n",
    "r = execute(qc)\n",
    "print(r)\n",
    "plot_histogram(r)"
   ]
  },
  {
   "cell_type": "code",
   "execution_count": null,
   "metadata": {},
   "outputs": [],
   "source": []
  }
 ],
 "metadata": {
  "kernelspec": {
   "display_name": "Python 3",
   "language": "python",
   "name": "python3"
  },
  "language_info": {
   "codemirror_mode": {
    "name": "ipython",
    "version": 3
   },
   "file_extension": ".py",
   "mimetype": "text/x-python",
   "name": "python",
   "nbconvert_exporter": "python",
   "pygments_lexer": "ipython3",
   "version": "3.6.8"
  }
 },
 "nbformat": 4,
 "nbformat_minor": 2
}
