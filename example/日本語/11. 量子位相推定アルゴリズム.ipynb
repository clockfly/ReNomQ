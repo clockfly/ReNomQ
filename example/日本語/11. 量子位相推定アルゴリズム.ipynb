{
 "cells": [
  {
   "cell_type": "markdown",
   "metadata": {},
   "source": [
    "# 11: 位相推定問題"
   ]
  },
  {
   "cell_type": "code",
   "execution_count": 1,
   "metadata": {},
   "outputs": [],
   "source": [
    "from renom_q import *\n",
    "import math"
   ]
  },
  {
   "cell_type": "markdown",
   "metadata": {},
   "source": [
    "位相推定問題とは、ユニタリ変換が与えられた時に、そのユニタリ変換の位相$\\theta$を推定することである。あるユニタリ変換Uが与えられた時、そのユニタリ変換の固有ベクトル$\\left| u \\right\\rangle$で、その固有値が$\\lambda = e^{i\\theta} = e^{2\\pi i \\phi}$であると、次のような関係式となる。\n",
    "$$U\\left| u \\right\\rangle = \\lambda\\left| u \\right\\rangle= e^{i\\theta}\\left| u \\right\\rangle = e^{2\\pi i \\phi}\\left| u \\right\\rangle = e^{2\\pi i 0.a_1 a_2 a_3 \\dots}\\left| u \\right\\rangle$$"
   ]
  },
  {
   "cell_type": "markdown",
   "metadata": {},
   "source": [
    "ここで、ユニタリ変換Uの位相$\\theta= 2\\pi \\phi$で、$\\phi$は整数でなく、次のような1より以下の小数点となる。\n",
    "$$0 \\leq 2 \\pi \\phi < 2 \\pi \\rightarrow 0 \\leq \\phi < 1$$ "
   ]
  },
  {
   "cell_type": "markdown",
   "metadata": {},
   "source": [
    "そこで、小数点を量子ビットを測定してバイナリ値から推定するため、制御Uゲートを用いる。\n",
    "$$\\left| 0 \\right\\rangle \\left| u \\right\\rangle \\xrightarrow{H \\otimes I} (\\left| 0 \\right\\rangle + \\left| 1 \\right\\rangle) \\left| u \\right\\rangle \\xrightarrow{cU} \\left| 0 \\right\\rangle \\left| u \\right\\rangle + \\left| 1 \\right\\rangle U \\left| u \\right\\rangle =  (\\left| 0 \\right\\rangle + e^{2 \\pi i \\phi} \\left| 1 \\right\\rangle) \\left| u \\right\\rangle $$"
   ]
  },
  {
   "cell_type": "markdown",
   "metadata": {},
   "source": [
    "この時、固有値$\\lambda$は目標ゲートに生成される。これは、固有値の見返り(Kickback)と呼ばれる。"
   ]
  },
  {
   "cell_type": "markdown",
   "metadata": {},
   "source": [
    "## 11-1: 3量子ビットでの位相推定問題"
   ]
  },
  {
   "cell_type": "markdown",
   "metadata": {},
   "source": [
    "3つの制御Uゲートを用いて、3量子ビットでの位相推定問題を解く。アダマール変換とユニタリ変換U$^3$=U・U・Uを用いることで計算され、上位3ビットを逆量子フーリエ変換すれば、ユニタリ変換$U\\left| u \\right\\rangle = \\lambda\\left| u \\right\\rangle = e^{2\\pi i 0.x_1 x_2 x_3}\\left| u \\right\\rangle$の位相数値$\\left| x_1 x_2 x_3 \\right\\rangle$が求まる。"
   ]
  },
  {
   "cell_type": "markdown",
   "metadata": {},
   "source": [
    "$$\\left| 000 \\right\\rangle \\left| u \\right\\rangle \\xrightarrow{H \\otimes H \\otimes H \\otimes I} (\\left| 0 \\right\\rangle + \\left| 1 \\right\\rangle)(\\left| 0 \\right\\rangle + \\left| 1 \\right\\rangle)(\\left| 0 \\right\\rangle + \\left| 1 \\right\\rangle)\\left| u \\right\\rangle \\xrightarrow{cU} \\xrightarrow{cU^2} \\xrightarrow{cU^3} (\\left| 0 \\right\\rangle + (e^{2\\pi i \\phi})^3 \\left| 1 \\right\\rangle)(\\left| 0 \\right\\rangle + (e^{2\\pi i \\phi})^2 \\left| 1 \\right\\rangle)(\\left| 0 \\right\\rangle + e^{2\\pi i \\phi} \\left| 1 \\right\\rangle)\\left| u \\right\\rangle = (\\left| 0 \\right\\rangle + (e^{2\\pi i 0.x_1 x_2 x_3})^3 \\left| 1 \\right\\rangle)(\\left| 0 \\right\\rangle + (e^{2\\pi i 0.x_1 x_2 x_3})^2 \\left| 1 \\right\\rangle)(\\left| 0 \\right\\rangle + e^{2\\pi i 0.x_1 x_2 x_3} \\left| 1 \\right\\rangle)\\left| u \\right\\rangle = (\\left| 0 \\right\\rangle + e^{2\\pi i 0.x_3} \\left| 1 \\right\\rangle)(\\left| 0 \\right\\rangle + e^{2\\pi i 0.x_2 x_3} \\left| 1 \\right\\rangle)(\\left| 0 \\right\\rangle + e^{2\\pi i 0.x_1 x_2 x_3} \\left| 1 \\right\\rangle)\\left| u \\right\\rangle  \\xrightarrow{QFT^{-1}_8} \\left| x_3 \\right\\rangle \\left| x_2 \\right\\rangle \\left| x_1 \\right\\rangle \\left| u \\right\\rangle $$"
   ]
  },
  {
   "cell_type": "markdown",
   "metadata": {},
   "source": [
    "推定する位相を$\\theta=14\\pi/8$とすると、"
   ]
  },
  {
   "cell_type": "code",
   "execution_count": 2,
   "metadata": {
    "scrolled": false
   },
   "outputs": [
    {
     "name": "stdout",
     "output_type": "stream",
     "text": [
      "{'000': 71, '010': 16, '100': 9, '110': 63, '111': 865}\n"
     ]
    },
    {
     "data": {
      "image/png": "[encoded data removed]",
      "text/plain": [
       "<Figure size 432x288 with 1 Axes>"
      ]
     },
     "metadata": {
      "needs_background": "light"
     },
     "output_type": "display_data"
    }
   ],
   "source": [
    "def ctlUn(qci, c, t, p, n):\n",
    "    for i in range(n):\n",
    "        qci.u1(-p, t)\n",
    "        qci.cx(c, t)\n",
    "        qci.u1(p, t)\n",
    "        qci.cx(c, t)\n",
    "        \n",
    "def iqft(qci, q, n):\n",
    "    for i in range(n):\n",
    "        for j in range(i):\n",
    "            qci.cu1(-math.pi/float(2**(i-j)),q[j], q[i])\n",
    "        qci.h(q[i])\n",
    "        \n",
    "def swap(qci, s1, s2):\n",
    "    qci.cx(s1, s2)\n",
    "    qci.cx(s2, s1)\n",
    "    qci.cx(s1, s2)\n",
    "    \n",
    "n = 3\n",
    "phase = 14.0*math.pi/8.0\n",
    "qr = QuantumRegister(n, 'qr')\n",
    "ur = QuantumRegister(1, 'ur')\n",
    "c = ClassicalRegister(n)\n",
    "qc = QuantumCircuit(qr, ur, c)\n",
    "\n",
    "\n",
    "for i in range(n):\n",
    "    qc.h(qr[i])\n",
    "\n",
    "for i in range(n):\n",
    "    ctlUn(qc, qr[n-1-i], ur[0], phase, i+1)\n",
    "\n",
    "iqft(qc, qr, n)\n",
    "swap(qc, qr[0], qr[2])\n",
    "\n",
    "qc.measure(qr, c)\n",
    "    \n",
    "r = execute(qc)\n",
    "print(r)\n",
    "plot_histogram(r)"
   ]
  },
  {
   "cell_type": "markdown",
   "metadata": {},
   "source": [
    "$\\left| 111 \\right\\rangle$が測定されたので、ユニタリ変換$U\\left| u \\right\\rangle = \\lambda\\left| u \\right\\rangle = e^{2\\pi i 0.111}\\left| u \\right\\rangle$の位相は、$\\theta = 2\\pi (1/2 + 1/4 + 1/8)=14\\pi /8$となり、始めに設定した推定したい位相と一致する。"
   ]
  },
  {
   "cell_type": "code",
   "execution_count": null,
   "metadata": {},
   "outputs": [],
   "source": []
  }
 ],
 "metadata": {
  "kernelspec": {
   "display_name": "Python 3",
   "language": "python",
   "name": "python3"
  },
  "language_info": {
   "codemirror_mode": {
    "name": "ipython",
    "version": 3
   },
   "file_extension": ".py",
   "mimetype": "text/x-python",
   "name": "python",
   "nbconvert_exporter": "python",
   "pygments_lexer": "ipython3",
   "version": "3.6.8"
  }
 },
 "nbformat": 4,
 "nbformat_minor": 1
}
